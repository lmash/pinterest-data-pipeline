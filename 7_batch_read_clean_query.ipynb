{
 "cells": [
  {
   "cell_type": "code",
   "execution_count": 0,
   "metadata": {
    "application/vnd.databricks.v1+cell": {
     "cellMetadata": {
      "byteLimit": 2048000,
      "rowLimit": 10000
     },
     "inputWidgets": {},
     "nuid": "6661039a-0045-4b8f-8368-62308bcbc39a",
     "showTitle": false,
     "title": ""
    }
   },
   "outputs": [
    {
     "output_type": "display_data",
     "data": {
      "text/html": [
       "<style scoped>\n",
       "  .ansiout {\n",
       "    display: block;\n",
       "    unicode-bidi: embed;\n",
       "    white-space: pre-wrap;\n",
       "    word-wrap: break-word;\n",
       "    word-break: break-all;\n",
       "    font-family: \"Menlo\", \"Monaco\", \"Consolas\", \"Ubuntu Mono\", \"Source Code Pro\", monospace;\n",
       "    font-size: 13px;\n",
       "    color: #555;\n",
       "    margin-left: 4px;\n",
       "    line-height: 19px;\n",
       "  }\n",
       "</style>\n",
       "<div class=\"ansiout\"></div>"
      ]
     },
     "metadata": {
      "application/vnd.databricks.v1+output": {
       "addedWidgets": {},
       "arguments": {},
       "data": "<div class=\"ansiout\"></div>",
       "datasetInfos": [],
       "metadata": {},
       "removedWidgets": [],
       "type": "html"
      }
     },
     "output_type": "display_data"
    }
   ],
   "source": [
    "import pyspark.sql.functions as F\n",
    "from pyspark.sql.functions import substring, length, col, expr, when\n",
    "from pyspark.sql.types import IntegerType\n",
    "from pyspark.sql import Window"
   ]
  },
  {
   "cell_type": "code",
   "execution_count": 0,
   "metadata": {
    "application/vnd.databricks.v1+cell": {
     "cellMetadata": {
      "byteLimit": 2048000,
      "rowLimit": 10000
     },
     "inputWidgets": {},
     "nuid": "8148ec80-c1ac-4387-9af3-b6811186bff0",
     "showTitle": true,
     "title": "Read files from S3 into Dataframes"
    }
   },
   "outputs": [
    {
     "output_type": "display_data",
     "data": {
      "text/html": [
       "<style scoped>\n",
       "  .ansiout {\n",
       "    display: block;\n",
       "    unicode-bidi: embed;\n",
       "    white-space: pre-wrap;\n",
       "    word-wrap: break-word;\n",
       "    word-break: break-all;\n",
       "    font-family: \"Menlo\", \"Monaco\", \"Consolas\", \"Ubuntu Mono\", \"Source Code Pro\", monospace;\n",
       "    font-size: 13px;\n",
       "    color: #555;\n",
       "    margin-left: 4px;\n",
       "    line-height: 19px;\n",
       "  }\n",
       "</style>\n",
       "<div class=\"ansiout\"></div>"
      ]
     },
     "metadata": {
      "application/vnd.databricks.v1+output": {
       "addedWidgets": {},
       "arguments": {},
       "data": "<div class=\"ansiout\"></div>",
       "datasetInfos": [],
       "metadata": {},
       "removedWidgets": [],
       "type": "html"
      }
     },
     "output_type": "display_data"
    }
   ],
   "source": [
    "file_location_geo = \"mnt/0e36c8cd403d_s3_bucket/topics/0e36c8cd403d.geo/partition=0/*.json\" \n",
    "file_location_pin = \"mnt/0e36c8cd403d_s3_bucket/topics/0e36c8cd403d.pin/partition=0/*.json\" \n",
    "file_location_user = \"mnt/0e36c8cd403d_s3_bucket/topics/0e36c8cd403d.user/partition=0/*.json\" \n",
    "\n",
    "file_type = \"json\"\n",
    "infer_schema = \"true\"\n",
    "\n",
    "df_geo_pre_cleaning = (spark.read.format(file_type)\n",
    "                       .option(\"inferSchema\", infer_schema)\n",
    "                       .load(file_location_geo)\n",
    ")\n",
    "df_pin_pre_cleaning = (spark.read.format(file_type)\n",
    "                       .option(\"inferSchema\", infer_schema)\n",
    "                       .load(file_location_pin)\n",
    ")\n",
    "df_user_pre_cleaning = (spark.read.format(file_type)\n",
    "                        .option(\"inferSchema\", infer_schema)\n",
    "                        .load(file_location_user)\n",
    ")"
   ]
  },
  {
   "cell_type": "code",
   "execution_count": 0,
   "metadata": {
    "application/vnd.databricks.v1+cell": {
     "cellMetadata": {
      "byteLimit": 2048000,
      "rowLimit": 10000
     },
     "inputWidgets": {},
     "nuid": "4be9160e-0624-4a51-b0b1-68ffe49baf56",
     "showTitle": true,
     "title": "Clean pin data"
    }
   },
   "outputs": [
    {
     "output_type": "display_data",
     "data": {
      "text/html": [
       "<style scoped>\n",
       "  .ansiout {\n",
       "    display: block;\n",
       "    unicode-bidi: embed;\n",
       "    white-space: pre-wrap;\n",
       "    word-wrap: break-word;\n",
       "    word-break: break-all;\n",
       "    font-family: \"Menlo\", \"Monaco\", \"Consolas\", \"Ubuntu Mono\", \"Source Code Pro\", monospace;\n",
       "    font-size: 13px;\n",
       "    color: #555;\n",
       "    margin-left: 4px;\n",
       "    line-height: 19px;\n",
       "  }\n",
       "</style>\n",
       "<div class=\"ansiout\"></div>"
      ]
     },
     "metadata": {
      "application/vnd.databricks.v1+output": {
       "addedWidgets": {},
       "arguments": {},
       "data": "<div class=\"ansiout\"></div>",
       "datasetInfos": [],
       "metadata": {},
       "removedWidgets": [],
       "type": "html"
      }
     },
     "output_type": "display_data"
    }
   ],
   "source": [
    "df_pin_cleaned = (\n",
    "    # Drop duplicates\n",
    "    df_pin_pre_cleaning.drop_duplicates([column_name for column_name, data_type in df_pin_pre_cleaning.dtypes])\n",
    "        # Replace entries with no relevant data in each column with Nones\n",
    "        .withColumn(\"follower_count\", F.when(F.col(\"follower_count\") == \"User Info Error\", None)\n",
    "                    .otherwise(F.col(\"follower_count\")))\n",
    "        .withColumn(\"image_src\", F.when(F.col(\"image_src\") == \"Image src error.\", None)\n",
    "                    .otherwise(F.col(\"image_src\")))\n",
    "        .withColumn(\"poster_name\", F.when(F.col(\"poster_name\") == \"User Info Error\", None)\n",
    "                    .otherwise(F.col(\"poster_name\")))\n",
    "        \n",
    "        # Convert follower_count columns with k/M\n",
    "        .withColumn(\"follower_count\", F.when(F.col(\"follower_count\").endswith(\"k\"), expr(\"substring(follower_count, 1, length(follower_count)-1)\") * 1000)\n",
    "                    .otherwise(F.col(\"follower_count\")))\n",
    "        .withColumn(\"follower_count\", F.when(F.col(\"follower_count\").endswith(\"M\"), expr(\"substring(follower_count, 1, length(follower_count)-1)\") * 1000000)\n",
    "                    .otherwise(F.col(\"follower_count\")))\n",
    "        \n",
    "        # Clean the data in the save_location column to include only the save location path\n",
    "        .withColumn(\"save_location\", F.split(\"save_location\", \"Local save in\"))\n",
    "        .withColumn(\"save_location\", F.col(\"save_location\")[F.size(\"save_location\") -1])\n",
    "\n",
    "        .withColumnRenamed(\"index\", \"ind\")\n",
    ")"
   ]
  },
  {
   "cell_type": "code",
   "execution_count": 0,
   "metadata": {
    "application/vnd.databricks.v1+cell": {
     "cellMetadata": {
      "byteLimit": 2048000,
      "rowLimit": 10000
     },
     "inputWidgets": {},
     "nuid": "560a0b71-ffd9-47b0-9b93-94fe80dc6327",
     "showTitle": true,
     "title": "Cast pin columns to correct types & reorder"
    }
   },
   "outputs": [
    {
     "output_type": "display_data",
     "data": {
      "text/html": [
       "<style scoped>\n",
       "  .ansiout {\n",
       "    display: block;\n",
       "    unicode-bidi: embed;\n",
       "    white-space: pre-wrap;\n",
       "    word-wrap: break-word;\n",
       "    word-break: break-all;\n",
       "    font-family: \"Menlo\", \"Monaco\", \"Consolas\", \"Ubuntu Mono\", \"Source Code Pro\", monospace;\n",
       "    font-size: 13px;\n",
       "    color: #555;\n",
       "    margin-left: 4px;\n",
       "    line-height: 19px;\n",
       "  }\n",
       "</style>\n",
       "<div class=\"ansiout\"></div>"
      ]
     },
     "metadata": {
      "application/vnd.databricks.v1+output": {
       "addedWidgets": {},
       "arguments": {},
       "data": "<div class=\"ansiout\"></div>",
       "datasetInfos": [],
       "metadata": {},
       "removedWidgets": [],
       "type": "html"
      }
     },
     "output_type": "display_data"
    }
   ],
   "source": [
    "df_pin = (df_pin_cleaned\n",
    "          .withColumn(\"follower_count\", df_pin_cleaned[\"follower_count\"].cast(IntegerType()))\n",
    "          .withColumn(\"index\", df_pin_cleaned[\"ind\"].cast(IntegerType()))          \n",
    "          .select(\"ind\", \"unique_id\", \"title\", \"description\", \"follower_count\", \"poster_name\", \"tag_list\", \"is_image_or_video\", \"image_src\", \"save_location\", \"category\")          \n",
    ")          "
   ]
  },
  {
   "cell_type": "code",
   "execution_count": 0,
   "metadata": {
    "application/vnd.databricks.v1+cell": {
     "cellMetadata": {
      "byteLimit": 2048000,
      "rowLimit": 10000
     },
     "inputWidgets": {},
     "nuid": "0a4a6c68-8285-4dc0-a5b2-714dc7ac7752",
     "showTitle": true,
     "title": "Clean geolocation data"
    }
   },
   "outputs": [
    {
     "output_type": "display_data",
     "data": {
      "text/html": [
       "<style scoped>\n",
       "  .ansiout {\n",
       "    display: block;\n",
       "    unicode-bidi: embed;\n",
       "    white-space: pre-wrap;\n",
       "    word-wrap: break-word;\n",
       "    word-break: break-all;\n",
       "    font-family: \"Menlo\", \"Monaco\", \"Consolas\", \"Ubuntu Mono\", \"Source Code Pro\", monospace;\n",
       "    font-size: 13px;\n",
       "    color: #555;\n",
       "    margin-left: 4px;\n",
       "    line-height: 19px;\n",
       "  }\n",
       "</style>\n",
       "<div class=\"ansiout\"></div>"
      ]
     },
     "metadata": {
      "application/vnd.databricks.v1+output": {
       "addedWidgets": {},
       "arguments": {},
       "data": "<div class=\"ansiout\"></div>",
       "datasetInfos": [],
       "metadata": {},
       "removedWidgets": [],
       "type": "html"
      }
     },
     "output_type": "display_data"
    }
   ],
   "source": [
    "df_geo = (\n",
    "    df_geo_pre_cleaning.drop_duplicates([column_name for column_name, data_type in df_geo_pre_cleaning.dtypes])\n",
    "    .withColumn(\"coordinates\", F.array(\"latitude\", \"longitude\"))\n",
    "    .withColumn(\"timestamp\", F.to_timestamp(\"timestamp\"))\n",
    "    .select(\"ind\", \"country\", \"coordinates\", \"timestamp\")\n",
    ")"
   ]
  },
  {
   "cell_type": "code",
   "execution_count": 0,
   "metadata": {
    "application/vnd.databricks.v1+cell": {
     "cellMetadata": {
      "byteLimit": 2048000,
      "rowLimit": 10000
     },
     "inputWidgets": {},
     "nuid": "05bf0308-118b-43b5-aa89-4bf635f40be0",
     "showTitle": true,
     "title": "Clean user data"
    }
   },
   "outputs": [
    {
     "output_type": "display_data",
     "data": {
      "text/html": [
       "<style scoped>\n",
       "  .ansiout {\n",
       "    display: block;\n",
       "    unicode-bidi: embed;\n",
       "    white-space: pre-wrap;\n",
       "    word-wrap: break-word;\n",
       "    word-break: break-all;\n",
       "    font-family: \"Menlo\", \"Monaco\", \"Consolas\", \"Ubuntu Mono\", \"Source Code Pro\", monospace;\n",
       "    font-size: 13px;\n",
       "    color: #555;\n",
       "    margin-left: 4px;\n",
       "    line-height: 19px;\n",
       "  }\n",
       "</style>\n",
       "<div class=\"ansiout\"></div>"
      ]
     },
     "metadata": {
      "application/vnd.databricks.v1+output": {
       "addedWidgets": {},
       "arguments": {},
       "data": "<div class=\"ansiout\"></div>",
       "datasetInfos": [],
       "metadata": {},
       "removedWidgets": [],
       "type": "html"
      }
     },
     "output_type": "display_data"
    }
   ],
   "source": [
    "df_user = (\n",
    "     df_user_pre_cleaning.drop_duplicates([column_name for column_name, data_type in df_user_pre_cleaning.dtypes])\n",
    "     .withColumn(\"user_name\", F.concat(F.col(\"first_name\"), F.lit(\" \"), F.col(\"last_name\")))\n",
    "     .withColumn(\"date_joined\", F.to_timestamp(\"date_joined\"))\n",
    "     .select(\"ind\", \"user_name\", \"age\", \"date_joined\")    \n",
    ")"
   ]
  },
  {
   "cell_type": "code",
   "execution_count": 0,
   "metadata": {
    "application/vnd.databricks.v1+cell": {
     "cellMetadata": {
      "byteLimit": 2048000,
      "rowLimit": 10000
     },
     "inputWidgets": {},
     "nuid": "8e42de08-941d-434b-a214-219d469965ba",
     "showTitle": true,
     "title": "Query: Find the most popular category in each country"
    }
   },
   "outputs": [
    {
     "output_type": "display_data",
     "data": {
      "text/html": [
       "<style scoped>\n",
       "  .ansiout {\n",
       "    display: block;\n",
       "    unicode-bidi: embed;\n",
       "    white-space: pre-wrap;\n",
       "    word-wrap: break-word;\n",
       "    word-break: break-all;\n",
       "    font-family: \"Menlo\", \"Monaco\", \"Consolas\", \"Ubuntu Mono\", \"Source Code Pro\", monospace;\n",
       "    font-size: 13px;\n",
       "    color: #555;\n",
       "    margin-left: 4px;\n",
       "    line-height: 19px;\n",
       "  }\n",
       "</style>\n",
       "<div class=\"ansiout\">+--------------------------------------------+--------------+--------------+\n",
       "                                     country|      category|category_count|\n",
       "+--------------------------------------------+--------------+--------------+\n",
       "                                 Afghanistan|     education|             5|\n",
       "                                     Albania|           art|             4|\n",
       "                                     Algeria|        quotes|             8|\n",
       "                              American Samoa|       tattoos|             3|\n",
       "                                     Andorra|       tattoos|             4|\n",
       "                                      Angola|diy-and-crafts|             2|\n",
       "                                    Anguilla|diy-and-crafts|             2|\n",
       "Antarctica (the territory South of 60 deg S)|       tattoos|             2|\n",
       "                         Antigua and Barbuda|           art|             3|\n",
       "                                   Argentina|       tattoos|             3|\n",
       "                                     Armenia|diy-and-crafts|             3|\n",
       "                                       Aruba|  mens-fashion|             5|\n",
       "                                   Australia|  mens-fashion|             2|\n",
       "                                     Austria|        travel|             2|\n",
       "                                     Austria|    home-decor|             2|\n",
       "                                  Azerbaijan|       finance|             1|\n",
       "                                  Azerbaijan|event-planning|             1|\n",
       "                                     Bahamas|           art|             1|\n",
       "                                     Bahamas|      vehicles|             1|\n",
       "                                     Bahamas|        travel|             1|\n",
       "+--------------------------------------------+--------------+--------------+\n",
       "only showing top 20 rows\n",
       "\n",
       "</div>"
      ]
     },
     "metadata": {
      "application/vnd.databricks.v1+output": {
       "addedWidgets": {},
       "arguments": {},
       "data": "<div class=\"ansiout\">+--------------------------------------------+--------------+--------------+\n|                                     country|      category|category_count|\n+--------------------------------------------+--------------+--------------+\n|                                 Afghanistan|     education|             5|\n|                                     Albania|           art|             4|\n|                                     Algeria|        quotes|             8|\n|                              American Samoa|       tattoos|             3|\n|                                     Andorra|       tattoos|             4|\n|                                      Angola|diy-and-crafts|             2|\n|                                    Anguilla|diy-and-crafts|             2|\n|Antarctica (the territory South of 60 deg S)|       tattoos|             2|\n|                         Antigua and Barbuda|           art|             3|\n|                                   Argentina|       tattoos|             3|\n|                                     Armenia|diy-and-crafts|             3|\n|                                       Aruba|  mens-fashion|             5|\n|                                   Australia|  mens-fashion|             2|\n|                                     Austria|        travel|             2|\n|                                     Austria|    home-decor|             2|\n|                                  Azerbaijan|       finance|             1|\n|                                  Azerbaijan|event-planning|             1|\n|                                     Bahamas|           art|             1|\n|                                     Bahamas|      vehicles|             1|\n|                                     Bahamas|        travel|             1|\n+--------------------------------------------+--------------+--------------+\nonly showing top 20 rows\n\n</div>",
       "datasetInfos": [],
       "metadata": {},
       "removedWidgets": [],
       "type": "html"
      }
     },
     "output_type": "display_data"
    }
   ],
   "source": [
    "w = Window.partitionBy('country')\n",
    "\n",
    "(\n",
    "    df_pin.join(df_geo,\n",
    "                on=\"ind\",\n",
    "                how=\"inner\"\n",
    "                )\n",
    "    # Group by and add column category_count\n",
    "    .groupBy(\"country\", \"category\")\n",
    "    .agg(F.count(\"category\").alias(\"category_count\"))\n",
    "\n",
    "    # Get max category per country\n",
    "    .withColumn('max_count', F.max('category_count').over(w))\n",
    "    .where(F.col('category_count') == F.col('max_count'))\n",
    "    .drop('max_count')\n",
    "    .show(truncate=100)\n",
    ")\n"
   ]
  },
  {
   "cell_type": "code",
   "execution_count": 0,
   "metadata": {
    "application/vnd.databricks.v1+cell": {
     "cellMetadata": {
      "byteLimit": 2048000,
      "rowLimit": 10000
     },
     "inputWidgets": {},
     "nuid": "3b8ac5ba-374d-45ea-a7e4-fafc1bc89d4c",
     "showTitle": true,
     "title": "Query: Find which was the most popular category each year"
    }
   },
   "outputs": [
    {
     "output_type": "display_data",
     "data": {
      "text/html": [
       "<style scoped>\n",
       "  .ansiout {\n",
       "    display: block;\n",
       "    unicode-bidi: embed;\n",
       "    white-space: pre-wrap;\n",
       "    word-wrap: break-word;\n",
       "    word-break: break-all;\n",
       "    font-family: \"Menlo\", \"Monaco\", \"Consolas\", \"Ubuntu Mono\", \"Source Code Pro\", monospace;\n",
       "    font-size: 13px;\n",
       "    color: #555;\n",
       "    margin-left: 4px;\n",
       "    line-height: 19px;\n",
       "  }\n",
       "</style>\n",
       "<div class=\"ansiout\">+---------+--------------+--------------+\n",
       "post_year|      category|category_count|\n",
       "+---------+--------------+--------------+\n",
       "     2018|           art|            10|\n",
       "     2018|     education|            10|\n",
       "     2019|diy-and-crafts|            10|\n",
       "     2020|       finance|            10|\n",
       "     2021|        quotes|             9|\n",
       "     2022|     christmas|            10|\n",
       "+---------+--------------+--------------+\n",
       "\n",
       "</div>"
      ]
     },
     "metadata": {
      "application/vnd.databricks.v1+output": {
       "addedWidgets": {},
       "arguments": {},
       "data": "<div class=\"ansiout\">+---------+--------------+--------------+\n|post_year|      category|category_count|\n+---------+--------------+--------------+\n|     2018|           art|            10|\n|     2018|     education|            10|\n|     2019|diy-and-crafts|            10|\n|     2020|       finance|            10|\n|     2021|        quotes|             9|\n|     2022|     christmas|            10|\n+---------+--------------+--------------+\n\n</div>",
       "datasetInfos": [],
       "metadata": {},
       "removedWidgets": [],
       "type": "html"
      }
     },
     "output_type": "display_data"
    }
   ],
   "source": [
    "w = Window.partitionBy(\"post_year\")\n",
    "\n",
    "(\n",
    "    df_pin.join(df_geo,\n",
    "                on=\"ind\",\n",
    "                how=\"inner\"\n",
    "    )\n",
    "    .withColumn(\"post_year\", F.year(\"timestamp\"))\n",
    "    .where(F.col(\"post_year\").between(\"2018\", \"2022\"))\n",
    "\n",
    "    # Group by and add column category_count\n",
    "    .groupBy(\"post_year\", \"category\")\n",
    "    .agg(F.count(\"category\").alias(\"category_count\"))\n",
    "\n",
    "    # Get max category per year\n",
    "    .withColumn(\"max_count\", F.max(\"category_count\").over(w))\n",
    "    .where(F.col(\"category_count\") == F.col(\"max_count\"))\n",
    "    .drop(\"max_count\")\n",
    "    .show()\n",
    ")"
   ]
  },
  {
   "cell_type": "code",
   "execution_count": 0,
   "metadata": {
    "application/vnd.databricks.v1+cell": {
     "cellMetadata": {
      "byteLimit": 2048000,
      "rowLimit": 10000
     },
     "inputWidgets": {},
     "nuid": "a07e5fe7-b1ec-4f77-ad02-a08589a62c45",
     "showTitle": true,
     "title": "Find the user with the most followers in each country"
    }
   },
   "outputs": [
    {
     "output_type": "display_data",
     "data": {
      "text/html": [
       "<style scoped>\n",
       "  .ansiout {\n",
       "    display: block;\n",
       "    unicode-bidi: embed;\n",
       "    white-space: pre-wrap;\n",
       "    word-wrap: break-word;\n",
       "    word-break: break-all;\n",
       "    font-family: \"Menlo\", \"Monaco\", \"Consolas\", \"Ubuntu Mono\", \"Source Code Pro\", monospace;\n",
       "    font-size: 13px;\n",
       "    color: #555;\n",
       "    margin-left: 4px;\n",
       "    line-height: 19px;\n",
       "  }\n",
       "</style>\n",
       "<div class=\"ansiout\">+--------------------------------------------+-----------------------------------------------------------------+--------------+\n",
       "                                     country|                                                      poster_name|follower_count|\n",
       "+--------------------------------------------+-----------------------------------------------------------------+--------------+\n",
       "                                 Afghanistan|                                                             9GAG|       3000000|\n",
       "                                     Albania|                                                The Minds Journal|       5000000|\n",
       "                                     Algeria|                                                        YourTango|        942000|\n",
       "                              American Samoa|                                                      Mamas Uncut|       8000000|\n",
       "                                     Andorra|                                            Teachers Pay Teachers|       1000000|\n",
       "                                      Angola|                                                        Tastemade|       8000000|\n",
       "                                    Anguilla|               Kristen | Lifestyle, Mom Tips &amp; Teacher Stuff Blog|         92000|\n",
       "Antarctica (the territory South of 60 deg S)|                                                       Refinery29|       1000000|\n",
       "                         Antigua and Barbuda|                                          Country Living Magazine|       1000000|\n",
       "                                   Argentina|                                                      Next Luxury|        800000|\n",
       "                                     Armenia|                                     Michelle {CraftyMorning.com}|        892000|\n",
       "                                       Aruba|                                                      GQ Magazine|        874000|\n",
       "                                   Australia|                                                Cultura Colectiva|       1000000|\n",
       "                                     Austria|                                 The World Pursuit Travel Website|         89000|\n",
       "                                  Azerbaijan|                                                  Style Me Pretty|       6000000|\n",
       "                                     Bahamas|                                      The Kitchen Table Classroom|        221000|\n",
       "                                     Bahrain|R.J. Weiss at The Ways To Wealth | Personal Finance | Debt Payoff|         46000|\n",
       "                                  Bangladesh|                                         Better Homes and Gardens|       4000000|\n",
       "                                    Barbados|                                          The Creativity Exchange|        410000|\n",
       "                                     Belarus|                                                        Ricky Lee|           709|\n",
       "+--------------------------------------------+-----------------------------------------------------------------+--------------+\n",
       "only showing top 20 rows\n",
       "\n",
       "</div>"
      ]
     },
     "metadata": {
      "application/vnd.databricks.v1+output": {
       "addedWidgets": {},
       "arguments": {},
       "data": "<div class=\"ansiout\">+--------------------------------------------+-----------------------------------------------------------------+--------------+\n|                                     country|                                                      poster_name|follower_count|\n+--------------------------------------------+-----------------------------------------------------------------+--------------+\n|                                 Afghanistan|                                                             9GAG|       3000000|\n|                                     Albania|                                                The Minds Journal|       5000000|\n|                                     Algeria|                                                        YourTango|        942000|\n|                              American Samoa|                                                      Mamas Uncut|       8000000|\n|                                     Andorra|                                            Teachers Pay Teachers|       1000000|\n|                                      Angola|                                                        Tastemade|       8000000|\n|                                    Anguilla|               Kristen | Lifestyle, Mom Tips &amp; Teacher Stuff Blog|         92000|\n|Antarctica (the territory South of 60 deg S)|                                                       Refinery29|       1000000|\n|                         Antigua and Barbuda|                                          Country Living Magazine|       1000000|\n|                                   Argentina|                                                      Next Luxury|        800000|\n|                                     Armenia|                                     Michelle {CraftyMorning.com}|        892000|\n|                                       Aruba|                                                      GQ Magazine|        874000|\n|                                   Australia|                                                Cultura Colectiva|       1000000|\n|                                     Austria|                                 The World Pursuit Travel Website|         89000|\n|                                  Azerbaijan|                                                  Style Me Pretty|       6000000|\n|                                     Bahamas|                                      The Kitchen Table Classroom|        221000|\n|                                     Bahrain|R.J. Weiss at The Ways To Wealth | Personal Finance | Debt Payoff|         46000|\n|                                  Bangladesh|                                         Better Homes and Gardens|       4000000|\n|                                    Barbados|                                          The Creativity Exchange|        410000|\n|                                     Belarus|                                                        Ricky Lee|           709|\n+--------------------------------------------+-----------------------------------------------------------------+--------------+\nonly showing top 20 rows\n\n</div>",
       "datasetInfos": [],
       "metadata": {},
       "removedWidgets": [],
       "type": "html"
      }
     },
     "output_type": "display_data"
    }
   ],
   "source": [
    "w = Window.partitionBy(\"country\")\n",
    "\n",
    "df_user_with_most_followers_by_country = (\n",
    "    df_pin.join(df_geo,\n",
    "                on=\"ind\",\n",
    "                how=\"inner\"\n",
    "                )\n",
    "            # For each country return the user with the most followers\n",
    "            .drop_duplicates([\"country\", \"poster_name\", \"follower_count\"])\n",
    "            .select(\"country\", \"poster_name\", \"follower_count\")\n",
    "            .withColumn(\"max_follower_count\", F.max(\"follower_count\").over(w))\n",
    "            .where(F.col(\"follower_count\") == F.col(\"max_follower_count\"))\n",
    "            .drop(\"max_follower_count\")\n",
    ")\n",
    "\n",
    "df_user_with_most_followers_by_country.show(truncate=100)"
   ]
  },
  {
   "cell_type": "code",
   "execution_count": 0,
   "metadata": {
    "application/vnd.databricks.v1+cell": {
     "cellMetadata": {
      "byteLimit": 2048000,
      "rowLimit": 10000
     },
     "inputWidgets": {},
     "nuid": "01101044-b299-4afa-b450-50ac3d736f52",
     "showTitle": true,
     "title": "Find the country with the user with most followers"
    }
   },
   "outputs": [
    {
     "output_type": "display_data",
     "data": {
      "text/html": [
       "<style scoped>\n",
       "  .ansiout {\n",
       "    display: block;\n",
       "    unicode-bidi: embed;\n",
       "    white-space: pre-wrap;\n",
       "    word-wrap: break-word;\n",
       "    word-break: break-all;\n",
       "    font-family: \"Menlo\", \"Monaco\", \"Consolas\", \"Ubuntu Mono\", \"Source Code Pro\", monospace;\n",
       "    font-size: 13px;\n",
       "    color: #555;\n",
       "    margin-left: 4px;\n",
       "    line-height: 19px;\n",
       "  }\n",
       "</style>\n",
       "<div class=\"ansiout\">+--------------+--------------+\n",
       "       country|follower_count|\n",
       "+--------------+--------------+\n",
       "American Samoa|       8000000|\n",
       "+--------------+--------------+\n",
       "\n",
       "</div>"
      ]
     },
     "metadata": {
      "application/vnd.databricks.v1+output": {
       "addedWidgets": {},
       "arguments": {},
       "data": "<div class=\"ansiout\">+--------------+--------------+\n|       country|follower_count|\n+--------------+--------------+\n|American Samoa|       8000000|\n+--------------+--------------+\n\n</div>",
       "datasetInfos": [],
       "metadata": {},
       "removedWidgets": [],
       "type": "html"
      }
     },
     "output_type": "display_data"
    }
   ],
   "source": [
    "\n",
    "(\n",
    "    df_user_with_most_followers_by_country\n",
    "    .select(\"country\", \"follower_count\")\n",
    "    .sort(\"follower_count\", \"country\", ascending=[False, True])\n",
    "    .limit(1)\n",
    "    .show()\n",
    ")\n",
    "\n"
   ]
  },
  {
   "cell_type": "code",
   "execution_count": 0,
   "metadata": {
    "application/vnd.databricks.v1+cell": {
     "cellMetadata": {
      "byteLimit": 2048000,
      "rowLimit": 10000
     },
     "inputWidgets": {},
     "nuid": "783100c9-0b5c-4143-9e2b-e6597b9aa866",
     "showTitle": true,
     "title": "Find the most popular category for different age groups"
    }
   },
   "outputs": [
    {
     "output_type": "display_data",
     "data": {
      "text/html": [
       "<style scoped>\n",
       "  .ansiout {\n",
       "    display: block;\n",
       "    unicode-bidi: embed;\n",
       "    white-space: pre-wrap;\n",
       "    word-wrap: break-word;\n",
       "    word-break: break-all;\n",
       "    font-family: \"Menlo\", \"Monaco\", \"Consolas\", \"Ubuntu Mono\", \"Source Code Pro\", monospace;\n",
       "    font-size: 13px;\n",
       "    color: #555;\n",
       "    margin-left: 4px;\n",
       "    line-height: 19px;\n",
       "  }\n",
       "</style>\n",
       "<div class=\"ansiout\">+---------+------------+--------------+\n",
       "age_group|    category|category_count|\n",
       "+---------+------------+--------------+\n",
       "      +50|mens-fashion|             5|\n",
       "      +50|      beauty|             5|\n",
       "    18-24|     tattoos|            20|\n",
       "    25-35|     finance|            12|\n",
       "    25-35|      travel|            12|\n",
       "    36-50|      quotes|             9|\n",
       "    36-50|  home-decor|             9|\n",
       "+---------+------------+--------------+\n",
       "\n",
       "</div>"
      ]
     },
     "metadata": {
      "application/vnd.databricks.v1+output": {
       "addedWidgets": {},
       "arguments": {},
       "data": "<div class=\"ansiout\">+---------+------------+--------------+\n|age_group|    category|category_count|\n+---------+------------+--------------+\n|      +50|mens-fashion|             5|\n|      +50|      beauty|             5|\n|    18-24|     tattoos|            20|\n|    25-35|     finance|            12|\n|    25-35|      travel|            12|\n|    36-50|      quotes|             9|\n|    36-50|  home-decor|             9|\n+---------+------------+--------------+\n\n</div>",
       "datasetInfos": [],
       "metadata": {},
       "removedWidgets": [],
       "type": "html"
      }
     },
     "output_type": "display_data"
    }
   ],
   "source": [
    "\n",
    "w = Window.partitionBy(\"age_group\")\n",
    "\n",
    "(\n",
    "    df_pin.join(df_user,\n",
    "                on=\"ind\",\n",
    "                how=\"inner\")\n",
    "    .withColumn('age_group', \n",
    "                when( (F.col(\"age\") >= 18) & (F.col(\"age\") < 25), \"18-24\")\n",
    "                .when( (F.col(\"age\") >= 25) & (F.col(\"age\") < 36), \"25-35\")\n",
    "                .when( (F.col(\"age\") >= 36) & (F.col(\"age\") < 51), \"36-50\")                \n",
    "               .otherwise(\"+50\")\n",
    "               )\n",
    "    .groupby(\"age_group\", \"category\")\n",
    "    .agg(F.count(\"category\").alias(\"category_count\"))\n",
    "    .withColumn(\"max_category_count\", F.max(\"category_count\").over(w))\n",
    "    .where(F.col(\"category_count\") == F.col(\"max_category_count\"))\n",
    "    .drop(\"max_category_count\")\n",
    "    .show()\n",
    ")"
   ]
  },
  {
   "cell_type": "code",
   "execution_count": 0,
   "metadata": {
    "application/vnd.databricks.v1+cell": {
     "cellMetadata": {
      "byteLimit": 2048000,
      "rowLimit": 10000
     },
     "inputWidgets": {},
     "nuid": "fb752f16-76a0-4e0e-bbc6-ef23edd41db6",
     "showTitle": true,
     "title": "Find the median follower count for different age groups"
    }
   },
   "outputs": [
    {
     "output_type": "display_data",
     "data": {
      "text/html": [
       "<style scoped>\n",
       "  .ansiout {\n",
       "    display: block;\n",
       "    unicode-bidi: embed;\n",
       "    white-space: pre-wrap;\n",
       "    word-wrap: break-word;\n",
       "    word-break: break-all;\n",
       "    font-family: \"Menlo\", \"Monaco\", \"Consolas\", \"Ubuntu Mono\", \"Source Code Pro\", monospace;\n",
       "    font-size: 13px;\n",
       "    color: #555;\n",
       "    margin-left: 4px;\n",
       "    line-height: 19px;\n",
       "  }\n",
       "</style>\n",
       "<div class=\"ansiout\">+---------+---------------------+\n",
       "age_group|median_follower_count|\n",
       "+---------+---------------------+\n",
       "    36-50|                 6000|\n",
       "      +50|                 3000|\n",
       "    18-24|               104000|\n",
       "    25-35|                27000|\n",
       "+---------+---------------------+\n",
       "\n",
       "</div>"
      ]
     },
     "metadata": {
      "application/vnd.databricks.v1+output": {
       "addedWidgets": {},
       "arguments": {},
       "data": "<div class=\"ansiout\">+---------+---------------------+\n|age_group|median_follower_count|\n+---------+---------------------+\n|    36-50|                 6000|\n|      +50|                 3000|\n|    18-24|               104000|\n|    25-35|                27000|\n+---------+---------------------+\n\n</div>",
       "datasetInfos": [],
       "metadata": {},
       "removedWidgets": [],
       "type": "html"
      }
     },
     "output_type": "display_data"
    }
   ],
   "source": [
    "magic_percentile = F.expr('percentile_approx(follower_count, 0.5)')\n",
    "\n",
    "(\n",
    "    df_pin.join(df_user,\n",
    "                on=\"ind\",\n",
    "                how=\"inner\")\n",
    "    .withColumn('age_group', \n",
    "                when( (F.col(\"age\") >= 18) & (F.col(\"age\") < 25), \"18-24\")\n",
    "                .when( (F.col(\"age\") >= 25) & (F.col(\"age\") < 36), \"25-35\")\n",
    "                .when( (F.col(\"age\") >= 36) & (F.col(\"age\") < 51), \"36-50\")                \n",
    "               .otherwise(\"+50\")\n",
    "               )\n",
    "    .groupBy('age_group').agg(magic_percentile.alias('median_follower_count'))\n",
    "    .show()\n",
    ")"
   ]
  },
  {
   "cell_type": "code",
   "execution_count": 0,
   "metadata": {
    "application/vnd.databricks.v1+cell": {
     "cellMetadata": {
      "byteLimit": 2048000,
      "rowLimit": 10000
     },
     "inputWidgets": {},
     "nuid": "a54786c6-5594-47c5-bc63-8d0a9b51f49c",
     "showTitle": true,
     "title": "Find out how many users have joined each year"
    }
   },
   "outputs": [
    {
     "output_type": "display_data",
     "data": {
      "text/html": [
       "<style scoped>\n",
       "  .ansiout {\n",
       "    display: block;\n",
       "    unicode-bidi: embed;\n",
       "    white-space: pre-wrap;\n",
       "    word-wrap: break-word;\n",
       "    word-break: break-all;\n",
       "    font-family: \"Menlo\", \"Monaco\", \"Consolas\", \"Ubuntu Mono\", \"Source Code Pro\", monospace;\n",
       "    font-size: 13px;\n",
       "    color: #555;\n",
       "    margin-left: 4px;\n",
       "    line-height: 19px;\n",
       "  }\n",
       "</style>\n",
       "<div class=\"ansiout\">+---------+-------------------+\n",
       "post_year|number_users_joined|\n",
       "+---------+-------------------+\n",
       "     2017|                 15|\n",
       "     2018|                 78|\n",
       "     2019|                 75|\n",
       "     2020|                 81|\n",
       "     2021|                 67|\n",
       "     2022|                 63|\n",
       "+---------+-------------------+\n",
       "\n",
       "</div>"
      ]
     },
     "metadata": {
      "application/vnd.databricks.v1+output": {
       "addedWidgets": {},
       "arguments": {},
       "data": "<div class=\"ansiout\">+---------+-------------------+\n|post_year|number_users_joined|\n+---------+-------------------+\n|     2017|                 15|\n|     2018|                 78|\n|     2019|                 75|\n|     2020|                 81|\n|     2021|                 67|\n|     2022|                 63|\n+---------+-------------------+\n\n</div>",
       "datasetInfos": [],
       "metadata": {},
       "removedWidgets": [],
       "type": "html"
      }
     },
     "output_type": "display_data"
    }
   ],
   "source": [
    "(\n",
    "    df_user.join(df_geo,\n",
    "                 on=\"ind\",\n",
    "                 how=\"inner\")\n",
    "    .withColumn(\"joined_year\", F.year(\"date_joined\"))\n",
    "    .where( ((F.col(\"joined_year\") > 2014) & (F.col(\"joined_year\") < 2021)) )\n",
    "    .withColumn(\"post_year\", F.year(\"timestamp\"))\n",
    "    .groupby(\"post_year\").agg(F.count(F.col(\"post_year\")).alias(\"number_users_joined\"))\n",
    "    .sort(\"post_year\", ascending=True)\n",
    "    .show()\n",
    ")"
   ]
  },
  {
   "cell_type": "code",
   "execution_count": 0,
   "metadata": {
    "application/vnd.databricks.v1+cell": {
     "cellMetadata": {
      "byteLimit": 2048000,
      "rowLimit": 10000
     },
     "inputWidgets": {},
     "nuid": "6aa897fc-a387-46e0-91fc-006947a05fd4",
     "showTitle": true,
     "title": "Find the median follower count of users based on their joining year"
    }
   },
   "outputs": [
    {
     "output_type": "display_data",
     "data": {
      "text/html": [
       "<style scoped>\n",
       "  .ansiout {\n",
       "    display: block;\n",
       "    unicode-bidi: embed;\n",
       "    white-space: pre-wrap;\n",
       "    word-wrap: break-word;\n",
       "    word-break: break-all;\n",
       "    font-family: \"Menlo\", \"Monaco\", \"Consolas\", \"Ubuntu Mono\", \"Source Code Pro\", monospace;\n",
       "    font-size: 13px;\n",
       "    color: #555;\n",
       "    margin-left: 4px;\n",
       "    line-height: 19px;\n",
       "  }\n",
       "</style>\n",
       "<div class=\"ansiout\">+---------+---------------------+\n",
       "post_year|median_follower_count|\n",
       "+---------+---------------------+\n",
       "     2018|                25000|\n",
       "     2022|                37000|\n",
       "     2019|                25000|\n",
       "     2020|                25000|\n",
       "     2017|                72000|\n",
       "     2021|                19000|\n",
       "+---------+---------------------+\n",
       "\n",
       "</div>"
      ]
     },
     "metadata": {
      "application/vnd.databricks.v1+output": {
       "addedWidgets": {},
       "arguments": {},
       "data": "<div class=\"ansiout\">+---------+---------------------+\n|post_year|median_follower_count|\n+---------+---------------------+\n|     2018|                25000|\n|     2022|                37000|\n|     2019|                25000|\n|     2020|                25000|\n|     2017|                72000|\n|     2021|                19000|\n+---------+---------------------+\n\n</div>",
       "datasetInfos": [],
       "metadata": {},
       "removedWidgets": [],
       "type": "html"
      }
     },
     "output_type": "display_data"
    }
   ],
   "source": [
    "magic_percentile = F.expr('percentile_approx(follower_count, 0.5)')\n",
    "\n",
    "(\n",
    "    df_user.join(df_pin,\n",
    "                 on=\"ind\",\n",
    "                 how=\"inner\")\n",
    "    .join(df_geo,\n",
    "          on=\"ind\",\n",
    "          how=\"inner\")\n",
    "    .withColumn(\"joined_year\", F.year(\"date_joined\"))\n",
    "    .where( ((F.col(\"joined_year\") > 2014) & (F.col(\"joined_year\") < 2021)) )\n",
    "    .withColumn(\"post_year\", F.year(\"timestamp\"))\n",
    "    .groupBy('post_year').agg(magic_percentile.alias('median_follower_count'))\n",
    "    .show()\n",
    ")"
   ]
  },
  {
   "cell_type": "code",
   "execution_count": 0,
   "metadata": {
    "application/vnd.databricks.v1+cell": {
     "cellMetadata": {
      "byteLimit": 2048000,
      "rowLimit": 10000
     },
     "inputWidgets": {},
     "nuid": "a5463807-5efa-4e9c-93b3-dca72707bb80",
     "showTitle": true,
     "title": "Find the median follower count of users based on their joining year and age group"
    }
   },
   "outputs": [
    {
     "output_type": "display_data",
     "data": {
      "text/html": [
       "<style scoped>\n",
       "  .ansiout {\n",
       "    display: block;\n",
       "    unicode-bidi: embed;\n",
       "    white-space: pre-wrap;\n",
       "    word-wrap: break-word;\n",
       "    word-break: break-all;\n",
       "    font-family: \"Menlo\", \"Monaco\", \"Consolas\", \"Ubuntu Mono\", \"Source Code Pro\", monospace;\n",
       "    font-size: 13px;\n",
       "    color: #555;\n",
       "    margin-left: 4px;\n",
       "    line-height: 19px;\n",
       "  }\n",
       "</style>\n",
       "<div class=\"ansiout\">+---------+---------+---------------------+\n",
       "post_year|age_group|median_follower_count|\n",
       "+---------+---------+---------------------+\n",
       "     2017|      +50|                14000|\n",
       "     2017|    18-24|               613000|\n",
       "     2017|    25-35|                31000|\n",
       "     2017|    36-50|                72000|\n",
       "     2018|      +50|                 1000|\n",
       "     2018|    18-24|                61000|\n",
       "     2018|    25-35|                22000|\n",
       "     2018|    36-50|                  709|\n",
       "     2019|      +50|                  542|\n",
       "     2019|    18-24|                51000|\n",
       "     2019|    25-35|                10000|\n",
       "     2019|    36-50|                 6000|\n",
       "     2020|      +50|                   53|\n",
       "     2020|    18-24|                60000|\n",
       "     2020|    25-35|                27000|\n",
       "     2020|    36-50|                 7000|\n",
       "     2021|      +50|                 1000|\n",
       "     2021|    18-24|               190000|\n",
       "     2021|    25-35|                26000|\n",
       "     2021|    36-50|                 5000|\n",
       "+---------+---------+---------------------+\n",
       "only showing top 20 rows\n",
       "\n",
       "</div>"
      ]
     },
     "metadata": {
      "application/vnd.databricks.v1+output": {
       "addedWidgets": {},
       "arguments": {},
       "data": "<div class=\"ansiout\">+---------+---------+---------------------+\n|post_year|age_group|median_follower_count|\n+---------+---------+---------------------+\n|     2017|      +50|                14000|\n|     2017|    18-24|               613000|\n|     2017|    25-35|                31000|\n|     2017|    36-50|                72000|\n|     2018|      +50|                 1000|\n|     2018|    18-24|                61000|\n|     2018|    25-35|                22000|\n|     2018|    36-50|                  709|\n|     2019|      +50|                  542|\n|     2019|    18-24|                51000|\n|     2019|    25-35|                10000|\n|     2019|    36-50|                 6000|\n|     2020|      +50|                   53|\n|     2020|    18-24|                60000|\n|     2020|    25-35|                27000|\n|     2020|    36-50|                 7000|\n|     2021|      +50|                 1000|\n|     2021|    18-24|               190000|\n|     2021|    25-35|                26000|\n|     2021|    36-50|                 5000|\n+---------+---------+---------------------+\nonly showing top 20 rows\n\n</div>",
       "datasetInfos": [],
       "metadata": {},
       "removedWidgets": [],
       "type": "html"
      }
     },
     "output_type": "display_data"
    }
   ],
   "source": [
    "magic_percentile = F.expr('percentile_approx(follower_count, 0.5)')\n",
    "\n",
    "(\n",
    "    df_user.join(df_pin,\n",
    "                 on=\"ind\",\n",
    "                 how=\"inner\")\n",
    "    .join(df_geo,\n",
    "          on=\"ind\",\n",
    "          how=\"inner\")\n",
    "    .withColumn(\"joined_year\", F.year(\"date_joined\"))\n",
    "    .where( ((F.col(\"joined_year\") > 2014) & (F.col(\"joined_year\") < 2021)) )\n",
    "    .withColumn(\"post_year\", F.year(\"timestamp\"))\n",
    "    .withColumn('age_group', \n",
    "                when( (F.col(\"age\") >= 18) & (F.col(\"age\") < 25), \"18-24\")\n",
    "                .when( (F.col(\"age\") >= 25) & (F.col(\"age\") < 36), \"25-35\")\n",
    "                .when( (F.col(\"age\") >= 36) & (F.col(\"age\") < 51), \"36-50\")                \n",
    "               .otherwise(\"+50\")\n",
    "               )    \n",
    "    .groupBy('post_year', 'age_group').agg(magic_percentile.alias('median_follower_count'))\n",
    "    .sort([\"post_year\", \"age_group\"], ascending=[True, True])\n",
    "    .show()\n",
    ")"
   ]
  },
  {
   "cell_type": "code",
   "execution_count": 0,
   "metadata": {
    "application/vnd.databricks.v1+cell": {
     "cellMetadata": {
      "byteLimit": 2048000,
      "rowLimit": 10000
     },
     "inputWidgets": {},
     "nuid": "f0f65331-e870-425d-8f71-e1f9525ad0c2",
     "showTitle": false,
     "title": ""
    }
   },
   "outputs": [
    {
     "output_type": "display_data",
     "data": {
      "text/html": [
       "<style scoped>\n",
       "  .ansiout {\n",
       "    display: block;\n",
       "    unicode-bidi: embed;\n",
       "    white-space: pre-wrap;\n",
       "    word-wrap: break-word;\n",
       "    word-break: break-all;\n",
       "    font-family: \"Menlo\", \"Monaco\", \"Consolas\", \"Ubuntu Mono\", \"Source Code Pro\", monospace;\n",
       "    font-size: 13px;\n",
       "    color: #555;\n",
       "    margin-left: 4px;\n",
       "    line-height: 19px;\n",
       "  }\n",
       "</style>\n",
       "<div class=\"ansiout\">Out[228]: &#39;1108-162752-8okw8dgg&#39;</div>"
      ]
     },
     "metadata": {
      "application/vnd.databricks.v1+output": {
       "addedWidgets": {},
       "arguments": {},
       "data": "<div class=\"ansiout\">Out[228]: &#39;1108-162752-8okw8dgg&#39;</div>",
       "datasetInfos": [],
       "metadata": {},
       "removedWidgets": [],
       "type": "html"
      }
     },
     "output_type": "display_data"
    }
   ],
   "source": [
    "# Get notebook path\n",
    "dbutils.notebook.entry_point.getDbutils().notebook().getContext().notebookPath().get()\n",
    "\n",
    "# Get Databricks cluster id\n",
    "spark.conf.get(\"spark.databricks.clusterUsageTags.clusterId\")"
   ]
  }
 ],
 "metadata": {
  "application/vnd.databricks.v1+notebook": {
   "dashboards": [],
   "language": "python",
   "notebookMetadata": {
    "pythonIndentUnit": 4
   },
   "notebookName": "Read, Clean, Query",
   "widgets": {}
  }
 },
 "nbformat": 4,
 "nbformat_minor": 0
}
