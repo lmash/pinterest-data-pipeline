{
 "cells": [
  {
   "cell_type": "code",
   "execution_count": 0,
   "metadata": {
    "application/vnd.databricks.v1+cell": {
     "cellMetadata": {
      "byteLimit": 2048000,
      "rowLimit": 10000
     },
     "inputWidgets": {},
     "nuid": "6661039a-0045-4b8f-8368-62308bcbc39a",
     "showTitle": false,
     "title": ""
    }
   },
   "outputs": [
    {
     "output_type": "display_data",
     "data": {
      "text/html": [
       "<style scoped>\n",
       "  .ansiout {\n",
       "    display: block;\n",
       "    unicode-bidi: embed;\n",
       "    white-space: pre-wrap;\n",
       "    word-wrap: break-word;\n",
       "    word-break: break-all;\n",
       "    font-family: \"Menlo\", \"Monaco\", \"Consolas\", \"Ubuntu Mono\", \"Source Code Pro\", monospace;\n",
       "    font-size: 13px;\n",
       "    color: #555;\n",
       "    margin-left: 4px;\n",
       "    line-height: 19px;\n",
       "  }\n",
       "</style>\n",
       "<div class=\"ansiout\"></div>"
      ]
     },
     "metadata": {
      "application/vnd.databricks.v1+output": {
       "addedWidgets": {},
       "arguments": {},
       "data": "<div class=\"ansiout\"></div>",
       "datasetInfos": [],
       "metadata": {},
       "removedWidgets": [],
       "type": "html"
      }
     },
     "output_type": "display_data"
    }
   ],
   "source": [
    "import pyspark.sql.functions as F\n",
    "from pyspark.sql.functions import substring, length, col, expr, when\n",
    "from pyspark.sql.types import IntegerType\n",
    "from pyspark.sql import Window"
   ]
  },
  {
   "cell_type": "code",
   "execution_count": 0,
   "metadata": {
    "application/vnd.databricks.v1+cell": {
     "cellMetadata": {
      "byteLimit": 2048000,
      "rowLimit": 10000
     },
     "inputWidgets": {},
     "nuid": "78831e6a-c812-4a93-94e4-c37879f59e32",
     "showTitle": false,
     "title": ""
    }
   },
   "outputs": [],
   "source": [
    "%run \"./utils/create_schemas\""
   ]
  },
  {
   "cell_type": "code",
   "execution_count": 0,
   "metadata": {
    "application/vnd.databricks.v1+cell": {
     "cellMetadata": {
      "byteLimit": 2048000,
      "rowLimit": 10000
     },
     "inputWidgets": {},
     "nuid": "37502687-3077-4480-8b4d-075d3c78ab4a",
     "showTitle": false,
     "title": ""
    }
   },
   "outputs": [
    {
     "output_type": "display_data",
     "data": {
      "text/html": [
       "<style scoped>\n",
       "  .ansiout {\n",
       "    display: block;\n",
       "    unicode-bidi: embed;\n",
       "    white-space: pre-wrap;\n",
       "    word-wrap: break-word;\n",
       "    word-break: break-all;\n",
       "    font-family: \"Menlo\", \"Monaco\", \"Consolas\", \"Ubuntu Mono\", \"Source Code Pro\", monospace;\n",
       "    font-size: 13px;\n",
       "    color: #555;\n",
       "    margin-left: 4px;\n",
       "    line-height: 19px;\n",
       "  }\n",
       "</style>\n",
       "<div class=\"ansiout\"></div>"
      ]
     },
     "metadata": {
      "application/vnd.databricks.v1+output": {
       "addedWidgets": {},
       "arguments": {},
       "data": "<div class=\"ansiout\"></div>",
       "datasetInfos": [],
       "metadata": {},
       "removedWidgets": [],
       "type": "html"
      }
     },
     "output_type": "display_data"
    }
   ],
   "source": [
    "file_type = \"json\"\n",
    "\n",
    "def read_s3(topic, file_type, schema):\n",
    "    \"\"\"Given a topic in a s3 bucket, returns a dataframe with the contents\"\"\"\n",
    "    file_location = f\"mnt/0e36c8cd403d_s3_bucket/topics/{topic}/partition=0/*.json\"\n",
    "\n",
    "    df = (spark.read.format(file_type)\n",
    "          .schema(schema)\n",
    "          .load(file_location)\n",
    "    )\n",
    "\n",
    "    return df"
   ]
  },
  {
   "cell_type": "code",
   "execution_count": 0,
   "metadata": {
    "application/vnd.databricks.v1+cell": {
     "cellMetadata": {
      "byteLimit": 2048000,
      "rowLimit": 10000
     },
     "inputWidgets": {},
     "nuid": "2a7aff27-e023-45e1-bd20-3c1128e71ac9",
     "showTitle": true,
     "title": "Read files from S3 into Dataframes"
    }
   },
   "outputs": [
    {
     "output_type": "display_data",
     "data": {
      "text/html": [
       "<style scoped>\n",
       "  .ansiout {\n",
       "    display: block;\n",
       "    unicode-bidi: embed;\n",
       "    white-space: pre-wrap;\n",
       "    word-wrap: break-word;\n",
       "    word-break: break-all;\n",
       "    font-family: \"Menlo\", \"Monaco\", \"Consolas\", \"Ubuntu Mono\", \"Source Code Pro\", monospace;\n",
       "    font-size: 13px;\n",
       "    color: #555;\n",
       "    margin-left: 4px;\n",
       "    line-height: 19px;\n",
       "  }\n",
       "</style>\n",
       "<div class=\"ansiout\"></div>"
      ]
     },
     "metadata": {
      "application/vnd.databricks.v1+output": {
       "addedWidgets": {},
       "arguments": {},
       "data": "<div class=\"ansiout\"></div>",
       "datasetInfos": [],
       "metadata": {},
       "removedWidgets": [],
       "type": "html"
      }
     },
     "output_type": "display_data"
    }
   ],
   "source": [
    "df_geo_pre_cleaning = read_s3('0e36c8cd403d.geo', file_type, geo_schema)\n",
    "df_pin_pre_cleaning = read_s3('0e36c8cd403d.pin', file_type, pin_schema)\n",
    "df_user_pre_cleaning = read_s3('0e36c8cd403d.user', file_type, user_schema)"
   ]
  },
  {
   "cell_type": "code",
   "execution_count": 0,
   "metadata": {
    "application/vnd.databricks.v1+cell": {
     "cellMetadata": {
      "byteLimit": 2048000,
      "rowLimit": 10000
     },
     "inputWidgets": {},
     "nuid": "8dff62ce-e743-4241-be0d-80ebe519701d",
     "showTitle": false,
     "title": ""
    }
   },
   "outputs": [],
   "source": [
    "%run \"./utils/clean\""
   ]
  },
  {
   "cell_type": "code",
   "execution_count": 0,
   "metadata": {
    "application/vnd.databricks.v1+cell": {
     "cellMetadata": {
      "byteLimit": 2048000,
      "rowLimit": 10000
     },
     "inputWidgets": {},
     "nuid": "8e42de08-941d-434b-a214-219d469965ba",
     "showTitle": true,
     "title": "Query: Find the most popular category in each country"
    }
   },
   "outputs": [
    {
     "output_type": "display_data",
     "data": {
      "text/html": [
       "<style scoped>\n",
       "  .ansiout {\n",
       "    display: block;\n",
       "    unicode-bidi: embed;\n",
       "    white-space: pre-wrap;\n",
       "    word-wrap: break-word;\n",
       "    word-break: break-all;\n",
       "    font-family: \"Menlo\", \"Monaco\", \"Consolas\", \"Ubuntu Mono\", \"Source Code Pro\", monospace;\n",
       "    font-size: 13px;\n",
       "    color: #555;\n",
       "    margin-left: 4px;\n",
       "    line-height: 19px;\n",
       "  }\n",
       "</style>\n",
       "<div class=\"ansiout\">+--------------------------------------------+--------------+--------------+\n",
       "                                     country|      category|category_count|\n",
       "+--------------------------------------------+--------------+--------------+\n",
       "                                 Afghanistan|     education|            17|\n",
       "                                     Albania|           art|            30|\n",
       "                                     Algeria|        quotes|            40|\n",
       "                              American Samoa|       tattoos|            12|\n",
       "                                     Andorra|       tattoos|            11|\n",
       "                                      Angola|diy-and-crafts|             4|\n",
       "                                      Angola|     education|             4|\n",
       "                                    Anguilla|diy-and-crafts|             6|\n",
       "Antarctica (the territory South of 60 deg S)|     christmas|             7|\n",
       "                         Antigua and Barbuda|           art|             4|\n",
       "                         Antigua and Barbuda|        travel|             4|\n",
       "                                   Argentina|       tattoos|            13|\n",
       "                                     Armenia|        beauty|             5|\n",
       "                                     Armenia|           art|             5|\n",
       "                                       Aruba|     christmas|            11|\n",
       "                                   Australia|     christmas|             3|\n",
       "                                   Australia|  mens-fashion|             3|\n",
       "                                   Australia|        travel|             3|\n",
       "                                     Austria|        travel|             6|\n",
       "                                  Azerbaijan|       finance|             9|\n",
       "+--------------------------------------------+--------------+--------------+\n",
       "only showing top 20 rows\n",
       "\n",
       "</div>"
      ]
     },
     "metadata": {
      "application/vnd.databricks.v1+output": {
       "addedWidgets": {},
       "arguments": {},
       "data": "<div class=\"ansiout\">+--------------------------------------------+--------------+--------------+\n|                                     country|      category|category_count|\n+--------------------------------------------+--------------+--------------+\n|                                 Afghanistan|     education|            17|\n|                                     Albania|           art|            30|\n|                                     Algeria|        quotes|            40|\n|                              American Samoa|       tattoos|            12|\n|                                     Andorra|       tattoos|            11|\n|                                      Angola|diy-and-crafts|             4|\n|                                      Angola|     education|             4|\n|                                    Anguilla|diy-and-crafts|             6|\n|Antarctica (the territory South of 60 deg S)|     christmas|             7|\n|                         Antigua and Barbuda|           art|             4|\n|                         Antigua and Barbuda|        travel|             4|\n|                                   Argentina|       tattoos|            13|\n|                                     Armenia|        beauty|             5|\n|                                     Armenia|           art|             5|\n|                                       Aruba|     christmas|            11|\n|                                   Australia|     christmas|             3|\n|                                   Australia|  mens-fashion|             3|\n|                                   Australia|        travel|             3|\n|                                     Austria|        travel|             6|\n|                                  Azerbaijan|       finance|             9|\n+--------------------------------------------+--------------+--------------+\nonly showing top 20 rows\n\n</div>",
       "datasetInfos": [],
       "metadata": {},
       "removedWidgets": [],
       "type": "html"
      }
     },
     "output_type": "display_data"
    }
   ],
   "source": [
    "w = Window.partitionBy('country')\n",
    "\n",
    "(\n",
    "    df_pin.join(df_geo,\n",
    "                on=\"ind\",\n",
    "                how=\"inner\"\n",
    "                )\n",
    "    # Group by and add column category_count\n",
    "    .groupBy(\"country\", \"category\")\n",
    "    .agg(F.count(\"category\").alias(\"category_count\"))\n",
    "\n",
    "    # Get max category per country\n",
    "    .withColumn('max_count', F.max('category_count').over(w))\n",
    "    .where(F.col('category_count') == F.col('max_count'))\n",
    "    .drop('max_count')\n",
    "    .show(truncate=100)\n",
    ")\n",
    "\n"
   ]
  },
  {
   "cell_type": "code",
   "execution_count": 0,
   "metadata": {
    "application/vnd.databricks.v1+cell": {
     "cellMetadata": {
      "byteLimit": 2048000,
      "rowLimit": 10000
     },
     "inputWidgets": {},
     "nuid": "3b8ac5ba-374d-45ea-a7e4-fafc1bc89d4c",
     "showTitle": true,
     "title": "Query: Find which was the most popular category each year"
    }
   },
   "outputs": [
    {
     "output_type": "display_data",
     "data": {
      "text/html": [
       "<style scoped>\n",
       "  .ansiout {\n",
       "    display: block;\n",
       "    unicode-bidi: embed;\n",
       "    white-space: pre-wrap;\n",
       "    word-wrap: break-word;\n",
       "    word-break: break-all;\n",
       "    font-family: \"Menlo\", \"Monaco\", \"Consolas\", \"Ubuntu Mono\", \"Source Code Pro\", monospace;\n",
       "    font-size: 13px;\n",
       "    color: #555;\n",
       "    margin-left: 4px;\n",
       "    line-height: 19px;\n",
       "  }\n",
       "</style>\n",
       "<div class=\"ansiout\">+---------+---------+--------------+\n",
       "post_year| category|category_count|\n",
       "+---------+---------+--------------+\n",
       "     2018|christmas|            44|\n",
       "     2019|      art|            34|\n",
       "     2020|christmas|            34|\n",
       "     2021|   quotes|            36|\n",
       "     2022|christmas|            40|\n",
       "+---------+---------+--------------+\n",
       "\n",
       "</div>"
      ]
     },
     "metadata": {
      "application/vnd.databricks.v1+output": {
       "addedWidgets": {},
       "arguments": {},
       "data": "<div class=\"ansiout\">+---------+---------+--------------+\n|post_year| category|category_count|\n+---------+---------+--------------+\n|     2018|christmas|            44|\n|     2019|      art|            34|\n|     2020|christmas|            34|\n|     2021|   quotes|            36|\n|     2022|christmas|            40|\n+---------+---------+--------------+\n\n</div>",
       "datasetInfos": [],
       "metadata": {},
       "removedWidgets": [],
       "type": "html"
      }
     },
     "output_type": "display_data"
    }
   ],
   "source": [
    "w = Window.partitionBy(\"post_year\")\n",
    "\n",
    "(\n",
    "    df_pin.join(df_geo,\n",
    "                on=\"ind\",\n",
    "                how=\"inner\"\n",
    "    )\n",
    "    .withColumn(\"post_year\", F.year(\"timestamp\"))\n",
    "    .where(F.col(\"post_year\").between(\"2018\", \"2022\"))\n",
    "\n",
    "    # Group by and add column category_count\n",
    "    .groupBy(\"post_year\", \"category\")\n",
    "    .agg(F.count(\"category\").alias(\"category_count\"))\n",
    "\n",
    "    # Get max category per year\n",
    "    .withColumn(\"max_count\", F.max(\"category_count\").over(w))\n",
    "    .where(F.col(\"category_count\") == F.col(\"max_count\"))\n",
    "    .drop(\"max_count\")\n",
    "    .show()\n",
    ")"
   ]
  },
  {
   "cell_type": "code",
   "execution_count": 0,
   "metadata": {
    "application/vnd.databricks.v1+cell": {
     "cellMetadata": {
      "byteLimit": 2048000,
      "rowLimit": 10000
     },
     "inputWidgets": {},
     "nuid": "a07e5fe7-b1ec-4f77-ad02-a08589a62c45",
     "showTitle": true,
     "title": "Find the user with the most followers in each country"
    }
   },
   "outputs": [
    {
     "output_type": "display_data",
     "data": {
      "text/html": [
       "<style scoped>\n",
       "  .ansiout {\n",
       "    display: block;\n",
       "    unicode-bidi: embed;\n",
       "    white-space: pre-wrap;\n",
       "    word-wrap: break-word;\n",
       "    word-break: break-all;\n",
       "    font-family: \"Menlo\", \"Monaco\", \"Consolas\", \"Ubuntu Mono\", \"Source Code Pro\", monospace;\n",
       "    font-size: 13px;\n",
       "    color: #555;\n",
       "    margin-left: 4px;\n",
       "    line-height: 19px;\n",
       "  }\n",
       "</style>\n",
       "<div class=\"ansiout\">+--------------------------------------------+-----------------------------------------------------------------+--------------+\n",
       "                                     country|                                                      poster_name|follower_count|\n",
       "+--------------------------------------------+-----------------------------------------------------------------+--------------+\n",
       "                                 Afghanistan|                                                             9GAG|       3000000|\n",
       "                                     Albania|                                                The Minds Journal|       5000000|\n",
       "                                     Algeria|                                                Apartment Therapy|       5000000|\n",
       "                              American Samoa|                                                      Mamas Uncut|       8000000|\n",
       "                                     Andorra|                                            Teachers Pay Teachers|       1000000|\n",
       "                                      Angola|                                                        Tastemade|       8000000|\n",
       "                                    Anguilla|                                                     Hometalk.com|       5000000|\n",
       "Antarctica (the territory South of 60 deg S)|                                                       Refinery29|       1000000|\n",
       "                         Antigua and Barbuda|                                          Country Living Magazine|       1000000|\n",
       "                                   Argentina|                                                      Cheezburger|       2000000|\n",
       "                                     Armenia|                                     Michelle {CraftyMorning.com}|        892000|\n",
       "                                       Aruba|                                                      GQ Magazine|        874000|\n",
       "                                   Australia|                                                     Mujer de 10 |       2000000|\n",
       "                                     Austria|                                      Allwomenstalk - girl rules |        813000|\n",
       "                                  Azerbaijan|                                                  Style Me Pretty|       6000000|\n",
       "                                     Bahamas|                                               Handmade Charlotte|        948000|\n",
       "                                     Bahrain|                                                    Rainy Day Mum|        337000|\n",
       "                                  Bangladesh|                                         Better Homes and Gardens|       4000000|\n",
       "                                    Barbados|                                          The Creativity Exchange|        410000|\n",
       "                                     Belarus|Prudent Penny Pincher - Home Decor, Organization, Crafts, Recipes|        648000|\n",
       "+--------------------------------------------+-----------------------------------------------------------------+--------------+\n",
       "only showing top 20 rows\n",
       "\n",
       "</div>"
      ]
     },
     "metadata": {
      "application/vnd.databricks.v1+output": {
       "addedWidgets": {},
       "arguments": {},
       "data": "<div class=\"ansiout\">+--------------------------------------------+-----------------------------------------------------------------+--------------+\n|                                     country|                                                      poster_name|follower_count|\n+--------------------------------------------+-----------------------------------------------------------------+--------------+\n|                                 Afghanistan|                                                             9GAG|       3000000|\n|                                     Albania|                                                The Minds Journal|       5000000|\n|                                     Algeria|                                                Apartment Therapy|       5000000|\n|                              American Samoa|                                                      Mamas Uncut|       8000000|\n|                                     Andorra|                                            Teachers Pay Teachers|       1000000|\n|                                      Angola|                                                        Tastemade|       8000000|\n|                                    Anguilla|                                                     Hometalk.com|       5000000|\n|Antarctica (the territory South of 60 deg S)|                                                       Refinery29|       1000000|\n|                         Antigua and Barbuda|                                          Country Living Magazine|       1000000|\n|                                   Argentina|                                                      Cheezburger|       2000000|\n|                                     Armenia|                                     Michelle {CraftyMorning.com}|        892000|\n|                                       Aruba|                                                      GQ Magazine|        874000|\n|                                   Australia|                                                     Mujer de 10 |       2000000|\n|                                     Austria|                                      Allwomenstalk - girl rules |        813000|\n|                                  Azerbaijan|                                                  Style Me Pretty|       6000000|\n|                                     Bahamas|                                               Handmade Charlotte|        948000|\n|                                     Bahrain|                                                    Rainy Day Mum|        337000|\n|                                  Bangladesh|                                         Better Homes and Gardens|       4000000|\n|                                    Barbados|                                          The Creativity Exchange|        410000|\n|                                     Belarus|Prudent Penny Pincher - Home Decor, Organization, Crafts, Recipes|        648000|\n+--------------------------------------------+-----------------------------------------------------------------+--------------+\nonly showing top 20 rows\n\n</div>",
       "datasetInfos": [],
       "metadata": {},
       "removedWidgets": [],
       "type": "html"
      }
     },
     "output_type": "display_data"
    }
   ],
   "source": [
    "w = Window.partitionBy(\"country\")\n",
    "\n",
    "df_user_with_most_followers_by_country = (\n",
    "    df_pin.join(df_geo,\n",
    "                on=\"ind\",\n",
    "                how=\"inner\"\n",
    "                )\n",
    "            # For each country return the user with the most followers\n",
    "            .drop_duplicates([\"country\", \"poster_name\", \"follower_count\"])\n",
    "            .select(\"country\", \"poster_name\", \"follower_count\")\n",
    "            .withColumn(\"max_follower_count\", F.max(\"follower_count\").over(w))\n",
    "            .where(F.col(\"follower_count\") == F.col(\"max_follower_count\"))\n",
    "            .drop(\"max_follower_count\")\n",
    ")\n",
    "\n",
    "df_user_with_most_followers_by_country.show(truncate=100)"
   ]
  },
  {
   "cell_type": "code",
   "execution_count": 0,
   "metadata": {
    "application/vnd.databricks.v1+cell": {
     "cellMetadata": {
      "byteLimit": 2048000,
      "rowLimit": 10000
     },
     "inputWidgets": {},
     "nuid": "01101044-b299-4afa-b450-50ac3d736f52",
     "showTitle": true,
     "title": "Find the country with the user with most followers"
    }
   },
   "outputs": [
    {
     "output_type": "display_data",
     "data": {
      "text/html": [
       "<style scoped>\n",
       "  .ansiout {\n",
       "    display: block;\n",
       "    unicode-bidi: embed;\n",
       "    white-space: pre-wrap;\n",
       "    word-wrap: break-word;\n",
       "    word-break: break-all;\n",
       "    font-family: \"Menlo\", \"Monaco\", \"Consolas\", \"Ubuntu Mono\", \"Source Code Pro\", monospace;\n",
       "    font-size: 13px;\n",
       "    color: #555;\n",
       "    margin-left: 4px;\n",
       "    line-height: 19px;\n",
       "  }\n",
       "</style>\n",
       "<div class=\"ansiout\">+--------------+--------------+\n",
       "       country|follower_count|\n",
       "+--------------+--------------+\n",
       "American Samoa|       8000000|\n",
       "+--------------+--------------+\n",
       "\n",
       "</div>"
      ]
     },
     "metadata": {
      "application/vnd.databricks.v1+output": {
       "addedWidgets": {},
       "arguments": {},
       "data": "<div class=\"ansiout\">+--------------+--------------+\n|       country|follower_count|\n+--------------+--------------+\n|American Samoa|       8000000|\n+--------------+--------------+\n\n</div>",
       "datasetInfos": [],
       "metadata": {},
       "removedWidgets": [],
       "type": "html"
      }
     },
     "output_type": "display_data"
    }
   ],
   "source": [
    "\n",
    "(\n",
    "    df_user_with_most_followers_by_country\n",
    "    .select(\"country\", \"follower_count\")\n",
    "    .sort(\"follower_count\", \"country\", ascending=[False, True])\n",
    "    .limit(1)\n",
    "    .show()\n",
    ")\n",
    "\n"
   ]
  },
  {
   "cell_type": "code",
   "execution_count": 0,
   "metadata": {
    "application/vnd.databricks.v1+cell": {
     "cellMetadata": {
      "byteLimit": 2048000,
      "rowLimit": 10000
     },
     "inputWidgets": {},
     "nuid": "a3ed2864-2da7-49fb-9886-618dec3f0e93",
     "showTitle": false,
     "title": ""
    }
   },
   "outputs": [
    {
     "output_type": "display_data",
     "data": {
      "text/html": [
       "<style scoped>\n",
       "  .ansiout {\n",
       "    display: block;\n",
       "    unicode-bidi: embed;\n",
       "    white-space: pre-wrap;\n",
       "    word-wrap: break-word;\n",
       "    word-break: break-all;\n",
       "    font-family: \"Menlo\", \"Monaco\", \"Consolas\", \"Ubuntu Mono\", \"Source Code Pro\", monospace;\n",
       "    font-size: 13px;\n",
       "    color: #555;\n",
       "    margin-left: 4px;\n",
       "    line-height: 19px;\n",
       "  }\n",
       "</style>\n",
       "<div class=\"ansiout\"></div>"
      ]
     },
     "metadata": {
      "application/vnd.databricks.v1+output": {
       "addedWidgets": {},
       "arguments": {},
       "data": "<div class=\"ansiout\"></div>",
       "datasetInfos": [],
       "metadata": {},
       "removedWidgets": [],
       "type": "html"
      }
     },
     "output_type": "display_data"
    }
   ],
   "source": [
    "def add_age_group_column(df):\n",
    "    \"\"\"Add age_group column\"\"\"\n",
    "    df = df.withColumn('age_group', \n",
    "                       when( (F.col(\"age\") >= 18) & (F.col(\"age\") < 25), \"18-24\")\n",
    "                       .when( (F.col(\"age\") >= 25) & (F.col(\"age\") < 36), \"25-35\")\n",
    "                       .when( (F.col(\"age\") >= 36) & (F.col(\"age\") < 51), \"36-50\")\n",
    "                       .otherwise(\"+50\")\n",
    "               )\n",
    "\n",
    "    return df"
   ]
  },
  {
   "cell_type": "code",
   "execution_count": 0,
   "metadata": {
    "application/vnd.databricks.v1+cell": {
     "cellMetadata": {
      "byteLimit": 2048000,
      "rowLimit": 10000
     },
     "inputWidgets": {},
     "nuid": "783100c9-0b5c-4143-9e2b-e6597b9aa866",
     "showTitle": true,
     "title": "Find the most popular category for different age groups"
    }
   },
   "outputs": [
    {
     "output_type": "display_data",
     "data": {
      "text/html": [
       "<style scoped>\n",
       "  .ansiout {\n",
       "    display: block;\n",
       "    unicode-bidi: embed;\n",
       "    white-space: pre-wrap;\n",
       "    word-wrap: break-word;\n",
       "    word-break: break-all;\n",
       "    font-family: \"Menlo\", \"Monaco\", \"Consolas\", \"Ubuntu Mono\", \"Source Code Pro\", monospace;\n",
       "    font-size: 13px;\n",
       "    color: #555;\n",
       "    margin-left: 4px;\n",
       "    line-height: 19px;\n",
       "  }\n",
       "</style>\n",
       "<div class=\"ansiout\">+---------+---------+--------------+\n",
       "age_group| category|category_count|\n",
       "+---------+---------+--------------+\n",
       "      +50| vehicles|            21|\n",
       "    18-24|  tattoos|            90|\n",
       "    25-35|christmas|            59|\n",
       "    36-50|  finance|            41|\n",
       "+---------+---------+--------------+\n",
       "\n",
       "</div>"
      ]
     },
     "metadata": {
      "application/vnd.databricks.v1+output": {
       "addedWidgets": {},
       "arguments": {},
       "data": "<div class=\"ansiout\">+---------+---------+--------------+\n|age_group| category|category_count|\n+---------+---------+--------------+\n|      +50| vehicles|            21|\n|    18-24|  tattoos|            90|\n|    25-35|christmas|            59|\n|    36-50|  finance|            41|\n+---------+---------+--------------+\n\n</div>",
       "datasetInfos": [],
       "metadata": {},
       "removedWidgets": [],
       "type": "html"
      }
     },
     "output_type": "display_data"
    }
   ],
   "source": [
    "\n",
    "w = Window.partitionBy(\"age_group\")\n",
    "\n",
    "(\n",
    "    df_pin.join(df_user,\n",
    "                on=\"ind\",\n",
    "                how=\"inner\")\n",
    "    .transform(add_age_group_column)\n",
    "    .groupby(\"age_group\", \"category\")\n",
    "    .agg(F.count(\"category\").alias(\"category_count\"))\n",
    "    .withColumn(\"max_category_count\", F.max(\"category_count\").over(w))\n",
    "    .where(F.col(\"category_count\") == F.col(\"max_category_count\"))\n",
    "    .drop(\"max_category_count\")\n",
    "    .show()\n",
    ")"
   ]
  },
  {
   "cell_type": "code",
   "execution_count": 0,
   "metadata": {
    "application/vnd.databricks.v1+cell": {
     "cellMetadata": {
      "byteLimit": 2048000,
      "rowLimit": 10000
     },
     "inputWidgets": {},
     "nuid": "fb752f16-76a0-4e0e-bbc6-ef23edd41db6",
     "showTitle": true,
     "title": "Find the median follower count for different age groups"
    }
   },
   "outputs": [
    {
     "output_type": "display_data",
     "data": {
      "text/html": [
       "<style scoped>\n",
       "  .ansiout {\n",
       "    display: block;\n",
       "    unicode-bidi: embed;\n",
       "    white-space: pre-wrap;\n",
       "    word-wrap: break-word;\n",
       "    word-break: break-all;\n",
       "    font-family: \"Menlo\", \"Monaco\", \"Consolas\", \"Ubuntu Mono\", \"Source Code Pro\", monospace;\n",
       "    font-size: 13px;\n",
       "    color: #555;\n",
       "    margin-left: 4px;\n",
       "    line-height: 19px;\n",
       "  }\n",
       "</style>\n",
       "<div class=\"ansiout\">+---------+---------------------+\n",
       "age_group|median_follower_count|\n",
       "+---------+---------------------+\n",
       "    36-50|                 7000|\n",
       "      +50|                 1000|\n",
       "    18-24|               130000|\n",
       "    25-35|                22000|\n",
       "+---------+---------------------+\n",
       "\n",
       "</div>"
      ]
     },
     "metadata": {
      "application/vnd.databricks.v1+output": {
       "addedWidgets": {},
       "arguments": {},
       "data": "<div class=\"ansiout\">+---------+---------------------+\n|age_group|median_follower_count|\n+---------+---------------------+\n|    36-50|                 7000|\n|      +50|                 1000|\n|    18-24|               130000|\n|    25-35|                22000|\n+---------+---------------------+\n\n</div>",
       "datasetInfos": [],
       "metadata": {},
       "removedWidgets": [],
       "type": "html"
      }
     },
     "output_type": "display_data"
    }
   ],
   "source": [
    "magic_percentile = F.expr('percentile_approx(follower_count, 0.5)')\n",
    "\n",
    "(\n",
    "    df_pin.join(df_user,\n",
    "                on=\"ind\",\n",
    "                how=\"inner\")\n",
    "    .transform(add_age_group_column)\n",
    "    .groupBy('age_group').agg(magic_percentile.alias('median_follower_count'))\n",
    "    .show()\n",
    ")"
   ]
  },
  {
   "cell_type": "code",
   "execution_count": 0,
   "metadata": {
    "application/vnd.databricks.v1+cell": {
     "cellMetadata": {
      "byteLimit": 2048000,
      "rowLimit": 10000
     },
     "inputWidgets": {},
     "nuid": "a54786c6-5594-47c5-bc63-8d0a9b51f49c",
     "showTitle": true,
     "title": "Find out how many users have joined each year"
    }
   },
   "outputs": [
    {
     "output_type": "display_data",
     "data": {
      "text/html": [
       "<style scoped>\n",
       "  .ansiout {\n",
       "    display: block;\n",
       "    unicode-bidi: embed;\n",
       "    white-space: pre-wrap;\n",
       "    word-wrap: break-word;\n",
       "    word-break: break-all;\n",
       "    font-family: \"Menlo\", \"Monaco\", \"Consolas\", \"Ubuntu Mono\", \"Source Code Pro\", monospace;\n",
       "    font-size: 13px;\n",
       "    color: #555;\n",
       "    margin-left: 4px;\n",
       "    line-height: 19px;\n",
       "  }\n",
       "</style>\n",
       "<div class=\"ansiout\">+---------+-------------------+\n",
       "post_year|number_users_joined|\n",
       "+---------+-------------------+\n",
       "     2017|                 69|\n",
       "     2018|                391|\n",
       "     2019|                326|\n",
       "     2020|                358|\n",
       "     2021|                356|\n",
       "     2022|                319|\n",
       "+---------+-------------------+\n",
       "\n",
       "</div>"
      ]
     },
     "metadata": {
      "application/vnd.databricks.v1+output": {
       "addedWidgets": {},
       "arguments": {},
       "data": "<div class=\"ansiout\">+---------+-------------------+\n|post_year|number_users_joined|\n+---------+-------------------+\n|     2017|                 69|\n|     2018|                391|\n|     2019|                326|\n|     2020|                358|\n|     2021|                356|\n|     2022|                319|\n+---------+-------------------+\n\n</div>",
       "datasetInfos": [],
       "metadata": {},
       "removedWidgets": [],
       "type": "html"
      }
     },
     "output_type": "display_data"
    }
   ],
   "source": [
    "(\n",
    "    df_user.join(df_geo,\n",
    "                 on=\"ind\",\n",
    "                 how=\"inner\")\n",
    "    .withColumn(\"joined_year\", F.year(\"date_joined\"))\n",
    "    .where( ((F.col(\"joined_year\") > 2014) & (F.col(\"joined_year\") < 2021)) )\n",
    "    .withColumn(\"post_year\", F.year(\"timestamp\"))\n",
    "    .groupby(\"post_year\").agg(F.count(F.col(\"post_year\")).alias(\"number_users_joined\"))\n",
    "    .sort(\"post_year\", ascending=True)\n",
    "    .show()\n",
    ")"
   ]
  },
  {
   "cell_type": "code",
   "execution_count": 0,
   "metadata": {
    "application/vnd.databricks.v1+cell": {
     "cellMetadata": {
      "byteLimit": 2048000,
      "rowLimit": 10000
     },
     "inputWidgets": {},
     "nuid": "6aa897fc-a387-46e0-91fc-006947a05fd4",
     "showTitle": true,
     "title": "Find the median follower count of users based on their joining year"
    }
   },
   "outputs": [
    {
     "output_type": "display_data",
     "data": {
      "text/html": [
       "<style scoped>\n",
       "  .ansiout {\n",
       "    display: block;\n",
       "    unicode-bidi: embed;\n",
       "    white-space: pre-wrap;\n",
       "    word-wrap: break-word;\n",
       "    word-break: break-all;\n",
       "    font-family: \"Menlo\", \"Monaco\", \"Consolas\", \"Ubuntu Mono\", \"Source Code Pro\", monospace;\n",
       "    font-size: 13px;\n",
       "    color: #555;\n",
       "    margin-left: 4px;\n",
       "    line-height: 19px;\n",
       "  }\n",
       "</style>\n",
       "<div class=\"ansiout\">+---------+---------------------+\n",
       "post_year|median_follower_count|\n",
       "+---------+---------------------+\n",
       "     2018|                36000|\n",
       "     2022|                34000|\n",
       "     2019|                28000|\n",
       "     2020|                30000|\n",
       "     2017|                39000|\n",
       "     2021|                20000|\n",
       "+---------+---------------------+\n",
       "\n",
       "</div>"
      ]
     },
     "metadata": {
      "application/vnd.databricks.v1+output": {
       "addedWidgets": {},
       "arguments": {},
       "data": "<div class=\"ansiout\">+---------+---------------------+\n|post_year|median_follower_count|\n+---------+---------------------+\n|     2018|                36000|\n|     2022|                34000|\n|     2019|                28000|\n|     2020|                30000|\n|     2017|                39000|\n|     2021|                20000|\n+---------+---------------------+\n\n</div>",
       "datasetInfos": [],
       "metadata": {},
       "removedWidgets": [],
       "type": "html"
      }
     },
     "output_type": "display_data"
    }
   ],
   "source": [
    "magic_percentile = F.expr('percentile_approx(follower_count, 0.5)')\n",
    "\n",
    "(\n",
    "    df_user.join(df_pin,\n",
    "                 on=\"ind\",\n",
    "                 how=\"inner\")\n",
    "    .join(df_geo,\n",
    "          on=\"ind\",\n",
    "          how=\"inner\")\n",
    "    .withColumn(\"joined_year\", F.year(\"date_joined\"))\n",
    "    .where( ((F.col(\"joined_year\") > 2014) & (F.col(\"joined_year\") < 2021)) )\n",
    "    .withColumn(\"post_year\", F.year(\"timestamp\"))\n",
    "    .groupBy('post_year').agg(magic_percentile.alias('median_follower_count'))\n",
    "    .show()\n",
    ")"
   ]
  },
  {
   "cell_type": "code",
   "execution_count": 0,
   "metadata": {
    "application/vnd.databricks.v1+cell": {
     "cellMetadata": {
      "byteLimit": 2048000,
      "rowLimit": 10000
     },
     "inputWidgets": {},
     "nuid": "a5463807-5efa-4e9c-93b3-dca72707bb80",
     "showTitle": true,
     "title": "Find the median follower count of users based on their joining year and age group"
    }
   },
   "outputs": [
    {
     "output_type": "display_data",
     "data": {
      "text/html": [
       "<style scoped>\n",
       "  .ansiout {\n",
       "    display: block;\n",
       "    unicode-bidi: embed;\n",
       "    white-space: pre-wrap;\n",
       "    word-wrap: break-word;\n",
       "    word-break: break-all;\n",
       "    font-family: \"Menlo\", \"Monaco\", \"Consolas\", \"Ubuntu Mono\", \"Source Code Pro\", monospace;\n",
       "    font-size: 13px;\n",
       "    color: #555;\n",
       "    margin-left: 4px;\n",
       "    line-height: 19px;\n",
       "  }\n",
       "</style>\n",
       "java.lang.RuntimeException: abort: DriverClient destroyed\n",
       "\tat com.databricks.backend.daemon.driver.DriverClient.$anonfun$poll$3(DriverClient.scala:577)\n",
       "\tat scala.concurrent.Future.$anonfun$flatMap$1(Future.scala:307)\n",
       "\tat scala.concurrent.impl.Promise.$anonfun$transformWith$1(Promise.scala:54)\n",
       "\tat scala.concurrent.impl.CallbackRunnable.run(Promise.scala:77)\n",
       "\tat com.databricks.threading.DatabricksExecutionContext$InstrumentedRunnable.run(DatabricksExecutionContext.scala:36)\n",
       "\tat com.databricks.threading.NamedExecutor$$anon$2.$anonfun$run$2(NamedExecutor.scala:378)\n",
       "\tat scala.runtime.java8.JFunction0$mcV$sp.apply(JFunction0$mcV$sp.java:23)\n",
       "\tat com.databricks.logging.UsageLogging.withAttributionContext(UsageLogging.scala:420)\n",
       "\tat com.databricks.logging.UsageLogging.withAttributionContext$(UsageLogging.scala:418)\n",
       "\tat com.databricks.threading.NamedExecutor.withAttributionContext(NamedExecutor.scala:297)\n",
       "\tat com.databricks.threading.NamedExecutor$$anon$2.$anonfun$run$1(NamedExecutor.scala:376)\n",
       "\tat scala.runtime.java8.JFunction0$mcV$sp.apply(JFunction0$mcV$sp.java:23)\n",
       "\tat com.databricks.context.integrity.IntegrityCheckContext$ThreadLocalStorage$.withValue(IntegrityCheckContext.scala:44)\n",
       "\tat com.databricks.threading.NamedExecutor$$anon$2.run(NamedExecutor.scala:368)\n",
       "\tat java.base/java.util.concurrent.ThreadPoolExecutor.runWorker(ThreadPoolExecutor.java:1128)\n",
       "\tat java.base/java.util.concurrent.ThreadPoolExecutor$Worker.run(ThreadPoolExecutor.java:628)\n",
       "\tat java.base/java.lang.Thread.run(Thread.java:829)"
      ]
     },
     "metadata": {
      "application/vnd.databricks.v1+output": {
       "arguments": {},
       "data": "java.lang.RuntimeException: abort: DriverClient destroyed\n\tat com.databricks.backend.daemon.driver.DriverClient.$anonfun$poll$3(DriverClient.scala:577)\n\tat scala.concurrent.Future.$anonfun$flatMap$1(Future.scala:307)\n\tat scala.concurrent.impl.Promise.$anonfun$transformWith$1(Promise.scala:54)\n\tat scala.concurrent.impl.CallbackRunnable.run(Promise.scala:77)\n\tat com.databricks.threading.DatabricksExecutionContext$InstrumentedRunnable.run(DatabricksExecutionContext.scala:36)\n\tat com.databricks.threading.NamedExecutor$$anon$2.$anonfun$run$2(NamedExecutor.scala:378)\n\tat scala.runtime.java8.JFunction0$mcV$sp.apply(JFunction0$mcV$sp.java:23)\n\tat com.databricks.logging.UsageLogging.withAttributionContext(UsageLogging.scala:420)\n\tat com.databricks.logging.UsageLogging.withAttributionContext$(UsageLogging.scala:418)\n\tat com.databricks.threading.NamedExecutor.withAttributionContext(NamedExecutor.scala:297)\n\tat com.databricks.threading.NamedExecutor$$anon$2.$anonfun$run$1(NamedExecutor.scala:376)\n\tat scala.runtime.java8.JFunction0$mcV$sp.apply(JFunction0$mcV$sp.java:23)\n\tat com.databricks.context.integrity.IntegrityCheckContext$ThreadLocalStorage$.withValue(IntegrityCheckContext.scala:44)\n\tat com.databricks.threading.NamedExecutor$$anon$2.run(NamedExecutor.scala:368)\n\tat java.base/java.util.concurrent.ThreadPoolExecutor.runWorker(ThreadPoolExecutor.java:1128)\n\tat java.base/java.util.concurrent.ThreadPoolExecutor$Worker.run(ThreadPoolExecutor.java:628)\n\tat java.base/java.lang.Thread.run(Thread.java:829)\n",
       "errorSummary": "Internal error. Attach your notebook to a different compute or restart the current compute.",
       "errorTraceType": null,
       "metadata": {},
       "type": "ipynbError"
      }
     },
     "output_type": "display_data"
    }
   ],
   "source": [
    "magic_percentile = F.expr('percentile_approx(follower_count, 0.5)')\n",
    "\n",
    "(\n",
    "    df_user.join(df_pin,\n",
    "                 on=\"ind\",\n",
    "                 how=\"inner\")\n",
    "    .join(df_geo,\n",
    "          on=\"ind\",\n",
    "          how=\"inner\")\n",
    "    .withColumn(\"joined_year\", F.year(\"date_joined\"))\n",
    "    .where( ((F.col(\"joined_year\") > 2014) & (F.col(\"joined_year\") < 2021)) )\n",
    "    .withColumn(\"post_year\", F.year(\"timestamp\"))\n",
    "    .transform(add_age_group_column)\n",
    "    .groupBy('post_year', 'age_group').agg(magic_percentile.alias('median_follower_count'))\n",
    "    .sort([\"post_year\", \"age_group\"], ascending=[True, True])\n",
    "    .show()\n",
    ")"
   ]
  }
 ],
 "metadata": {
  "application/vnd.databricks.v1+notebook": {
   "dashboards": [],
   "language": "python",
   "notebookMetadata": {
    "pythonIndentUnit": 4
   },
   "notebookName": "batch_read_clean_query",
   "widgets": {}
  }
 },
 "nbformat": 4,
 "nbformat_minor": 0
}
