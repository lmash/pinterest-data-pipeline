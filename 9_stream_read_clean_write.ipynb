{
 "cells": [
  {
   "cell_type": "code",
   "execution_count": 0,
   "metadata": {
    "application/vnd.databricks.v1+cell": {
     "cellMetadata": {
      "byteLimit": 2048000,
      "rowLimit": 10000
     },
     "inputWidgets": {},
     "nuid": "234c56b8-1640-43a3-b2a2-c231550c0ffc",
     "showTitle": false,
     "title": ""
    }
   },
   "outputs": [
    {
     "output_type": "display_data",
     "data": {
      "text/html": [
       "<style scoped>\n",
       "  .ansiout {\n",
       "    display: block;\n",
       "    unicode-bidi: embed;\n",
       "    white-space: pre-wrap;\n",
       "    word-wrap: break-word;\n",
       "    word-break: break-all;\n",
       "    font-family: \"Menlo\", \"Monaco\", \"Consolas\", \"Ubuntu Mono\", \"Source Code Pro\", monospace;\n",
       "    font-size: 13px;\n",
       "    color: #555;\n",
       "    margin-left: 4px;\n",
       "    line-height: 19px;\n",
       "  }\n",
       "</style>\n",
       "<div class=\"ansiout\"></div>"
      ]
     },
     "metadata": {
      "application/vnd.databricks.v1+output": {
       "addedWidgets": {},
       "arguments": {},
       "data": "<div class=\"ansiout\"></div>",
       "datasetInfos": [],
       "metadata": {},
       "removedWidgets": [],
       "type": "html"
      }
     },
     "output_type": "display_data"
    }
   ],
   "source": [
    "from pyspark.sql.types import *\n",
    "from pyspark.sql.functions import *\n",
    "import urllib\n",
    "\n",
    "aws_keys_df =  (spark.read.format(\"csv\")\n",
    "                .option(\"header\", \"true\")\n",
    "                .option(\"sep\", \",\")\n",
    "                .load(\"/FileStore/tables/authentication_credentials.csv\")\n",
    ")"
   ]
  },
  {
   "cell_type": "code",
   "execution_count": 0,
   "metadata": {
    "application/vnd.databricks.v1+cell": {
     "cellMetadata": {
      "byteLimit": 2048000,
      "rowLimit": 10000
     },
     "inputWidgets": {},
     "nuid": "e64213b4-34e9-4ed5-b218-16f06122aa2c",
     "showTitle": false,
     "title": ""
    }
   },
   "outputs": [
    {
     "output_type": "display_data",
     "data": {
      "text/html": [
       "<style scoped>\n",
       "  .ansiout {\n",
       "    display: block;\n",
       "    unicode-bidi: embed;\n",
       "    white-space: pre-wrap;\n",
       "    word-wrap: break-word;\n",
       "    word-break: break-all;\n",
       "    font-family: \"Menlo\", \"Monaco\", \"Consolas\", \"Ubuntu Mono\", \"Source Code Pro\", monospace;\n",
       "    font-size: 13px;\n",
       "    color: #555;\n",
       "    margin-left: 4px;\n",
       "    line-height: 19px;\n",
       "  }\n",
       "</style>\n",
       "<div class=\"ansiout\"></div>"
      ]
     },
     "metadata": {
      "application/vnd.databricks.v1+output": {
       "addedWidgets": {},
       "arguments": {},
       "data": "<div class=\"ansiout\"></div>",
       "datasetInfos": [],
       "metadata": {},
       "removedWidgets": [],
       "type": "html"
      }
     },
     "output_type": "display_data"
    }
   ],
   "source": [
    "# Get the AWS access key and secret key from the spark dataframe\n",
    "ACCESS_KEY = aws_keys_df.where(col('User name')=='databricks-user').select('Access key ID').collect()[0]['Access key ID']\n",
    "SECRET_KEY = aws_keys_df.where(col('User name')=='databricks-user').select('Secret access key').collect()[0]['Secret access key']\n",
    "# Encode the secrete key\n",
    "ENCODED_SECRET_KEY = urllib.parse.quote(string=SECRET_KEY, safe=\"\")"
   ]
  },
  {
   "cell_type": "code",
   "execution_count": 0,
   "metadata": {
    "application/vnd.databricks.v1+cell": {
     "cellMetadata": {
      "byteLimit": 2048000,
      "rowLimit": 10000
     },
     "inputWidgets": {},
     "nuid": "c8965673-6ad9-4dd1-9501-002444627eb4",
     "showTitle": false,
     "title": ""
    }
   },
   "outputs": [
    {
     "output_type": "display_data",
     "data": {
      "text/html": [
       "<style scoped>\n",
       "  .ansiout {\n",
       "    display: block;\n",
       "    unicode-bidi: embed;\n",
       "    white-space: pre-wrap;\n",
       "    word-wrap: break-word;\n",
       "    word-break: break-all;\n",
       "    font-family: \"Menlo\", \"Monaco\", \"Consolas\", \"Ubuntu Mono\", \"Source Code Pro\", monospace;\n",
       "    font-size: 13px;\n",
       "    color: #555;\n",
       "    margin-left: 4px;\n",
       "    line-height: 19px;\n",
       "  }\n",
       "</style>\n",
       "<div class=\"ansiout\"></div>"
      ]
     },
     "metadata": {
      "application/vnd.databricks.v1+output": {
       "addedWidgets": {},
       "arguments": {},
       "data": "<div class=\"ansiout\"></div>",
       "datasetInfos": [],
       "metadata": {},
       "removedWidgets": [],
       "type": "html"
      }
     },
     "output_type": "display_data"
    }
   ],
   "source": [
    "df_geo_kinesis = (\n",
    "    spark\n",
    "    .readStream\n",
    "    .format('kinesis')\n",
    "    .option('streamName','streaming-0e36c8cd403d-geo')\n",
    "    .option('initialPosition','earliest')\n",
    "    .option('region','us-east-1')\n",
    "    .option('awsAccessKey', ACCESS_KEY)\n",
    "    .option('awsSecretKey', SECRET_KEY)\n",
    "    .load()\n",
    ")\n",
    "\n",
    "df_pin_kinesis = (\n",
    "    spark\n",
    "    .readStream\n",
    "    .format('kinesis')\n",
    "    .option('streamName','streaming-0e36c8cd403d-pin')\n",
    "    .option('initialPosition','earliest')\n",
    "    .option('region','us-east-1')\n",
    "    .option('awsAccessKey', ACCESS_KEY)\n",
    "    .option('awsSecretKey', SECRET_KEY)\n",
    "    .load()\n",
    ")\n",
    "\n",
    "df_user_kinesis = (\n",
    "    spark\n",
    "    .readStream\n",
    "    .format('kinesis')\n",
    "    .option('streamName','streaming-0e36c8cd403d-user')\n",
    "    .option('initialPosition','earliest')\n",
    "    .option('region','us-east-1')\n",
    "    .option('awsAccessKey', ACCESS_KEY)\n",
    "    .option('awsSecretKey', SECRET_KEY)\n",
    "    .load()\n",
    ")"
   ]
  },
  {
   "cell_type": "code",
   "execution_count": 0,
   "metadata": {
    "application/vnd.databricks.v1+cell": {
     "cellMetadata": {
      "byteLimit": 2048000,
      "rowLimit": 10000
     },
     "inputWidgets": {},
     "nuid": "3d4760d1-6a7f-4fa7-8f6f-54e868999d78",
     "showTitle": true,
     "title": "Create Schemes"
    }
   },
   "outputs": [
    {
     "output_type": "display_data",
     "data": {
      "text/html": [
       "<style scoped>\n",
       "  .ansiout {\n",
       "    display: block;\n",
       "    unicode-bidi: embed;\n",
       "    white-space: pre-wrap;\n",
       "    word-wrap: break-word;\n",
       "    word-break: break-all;\n",
       "    font-family: \"Menlo\", \"Monaco\", \"Consolas\", \"Ubuntu Mono\", \"Source Code Pro\", monospace;\n",
       "    font-size: 13px;\n",
       "    color: #555;\n",
       "    margin-left: 4px;\n",
       "    line-height: 19px;\n",
       "  }\n",
       "</style>\n",
       "<div class=\"ansiout\"></div>"
      ]
     },
     "metadata": {
      "application/vnd.databricks.v1+output": {
       "addedWidgets": {},
       "arguments": {},
       "data": "<div class=\"ansiout\"></div>",
       "datasetInfos": [],
       "metadata": {},
       "removedWidgets": [],
       "type": "html"
      }
     },
     "output_type": "display_data"
    }
   ],
   "source": [
    "from pyspark.sql.types import StructType,StructField, StringType, IntegerType, TimestampType\n",
    "import pyspark.sql.functions as F\n",
    "\n",
    "user_schema = StructType(\n",
    "    {\n",
    "        StructField(\"ind\", IntegerType(), True),\n",
    "        StructField(\"first_name\", StringType(), True),\n",
    "        StructField(\"last_name\", StringType(), True),        \n",
    "        StructField(\"age\", IntegerType(), True),        \n",
    "        StructField(\"date_joined\", StringType(), True),                        \n",
    "    }\n",
    ")\n",
    "\n",
    "geo_schema = StructType(\n",
    "    {\n",
    "        StructField(\"ind\", IntegerType(), True),\n",
    "        StructField(\"timestamp\", StringType(), True),\n",
    "        StructField(\"latitude\", DoubleType(), True),\n",
    "        StructField(\"longitude\", DoubleType(), True),\n",
    "        StructField(\"country\", StringType(), True)\n",
    "    }\n",
    ")\n",
    "\n",
    "pin_schema = StructType(\n",
    "    {\n",
    "        StructField(\"category\", StringType(), True),\n",
    "        StructField(\"description\", StringType(), True),\n",
    "        StructField(\"downloaded\", IntegerType(), True),\n",
    "        StructField(\"follower_count\", StringType(), True),\n",
    "        StructField(\"image_src\", StringType(), True),\n",
    "        StructField(\"index\", IntegerType(), True),\n",
    "        StructField(\"is_image_or_video\", StringType(), True),\n",
    "        StructField(\"poster_name\", StringType(), True),\n",
    "        StructField(\"save_location\", StringType(), True),\n",
    "        StructField(\"tag_list\", StringType(), True),\n",
    "        StructField(\"title\", StringType(), True),\n",
    "        StructField(\"unique_id\", StringType(), True),\n",
    "    }\n",
    ")"
   ]
  },
  {
   "cell_type": "code",
   "execution_count": 0,
   "metadata": {
    "application/vnd.databricks.v1+cell": {
     "cellMetadata": {},
     "inputWidgets": {},
     "nuid": "32a45a59-db44-4c21-8786-b07601f2f575",
     "showTitle": true,
     "title": "Convert data field with json to multiple fields "
    }
   },
   "outputs": [],
   "source": [
    "df_user_pre_cleaning = (\n",
    "    df_user_kinesis\n",
    "    .selectExpr(\"CAST(data as STRING)\")\n",
    "    .select(F.from_json(\"data\", user_schema).alias(\"user\"))\n",
    "    .select(\"user.*\")\n",
    "    )\n",
    "\n",
    "df_geo_pre_cleaning = (\n",
    "    df_geo_kinesis\n",
    "    .selectExpr(\"CAST(data as STRING)\")\n",
    "    .select(F.from_json(\"data\", geo_schema).alias(\"geo\"))\n",
    "    .select(\"geo.*\")\n",
    ")\n",
    "\n",
    "df_pin_pre_cleaning = (\n",
    "    df_pin_kinesis\n",
    "    .selectExpr(\"CAST(data as STRING)\")\n",
    "    .select(F.from_json(\"data\", pin_schema).alias(\"pin\"))\n",
    "    .select(\"pin.*\")\n",
    ")"
   ]
  },
  {
   "cell_type": "code",
   "execution_count": 0,
   "metadata": {
    "application/vnd.databricks.v1+cell": {
     "cellMetadata": {
      "byteLimit": 2048000,
      "rowLimit": 10000
     },
     "inputWidgets": {},
     "nuid": "1bd1055b-3acf-40bb-9e7d-cdfccdf5e4d3",
     "showTitle": false,
     "title": ""
    }
   },
   "outputs": [
    {
     "output_type": "display_data",
     "data": {
      "text/html": [
       "<style scoped>\n",
       "  .ansiout {\n",
       "    display: block;\n",
       "    unicode-bidi: embed;\n",
       "    white-space: pre-wrap;\n",
       "    word-wrap: break-word;\n",
       "    word-break: break-all;\n",
       "    font-family: \"Menlo\", \"Monaco\", \"Consolas\", \"Ubuntu Mono\", \"Source Code Pro\", monospace;\n",
       "    font-size: 13px;\n",
       "    color: #555;\n",
       "    margin-left: 4px;\n",
       "    line-height: 19px;\n",
       "  }\n",
       "</style>\n",
       "<div class=\"ansiout\"></div>"
      ]
     },
     "metadata": {
      "application/vnd.databricks.v1+output": {
       "addedWidgets": {},
       "arguments": {},
       "data": "<div class=\"ansiout\"></div>",
       "datasetInfos": [],
       "metadata": {},
       "removedWidgets": [],
       "type": "html"
      }
     },
     "output_type": "display_data"
    }
   ],
   "source": [
    "# display(df_pin_pre_cleaning)\n",
    "# display(df_geo_pre_cleaning)\n",
    "# display(df_user_pre_cleaning)"
   ]
  },
  {
   "cell_type": "code",
   "execution_count": 0,
   "metadata": {
    "application/vnd.databricks.v1+cell": {
     "cellMetadata": {
      "byteLimit": 2048000,
      "rowLimit": 10000
     },
     "inputWidgets": {},
     "nuid": "a83c314f-f478-40e7-be64-200c2c12fd9b",
     "showTitle": false,
     "title": ""
    }
   },
   "outputs": [
    {
     "output_type": "display_data",
     "data": {
      "text/html": [
       "<style scoped>\n",
       "  .ansiout {\n",
       "    display: block;\n",
       "    unicode-bidi: embed;\n",
       "    white-space: pre-wrap;\n",
       "    word-wrap: break-word;\n",
       "    word-break: break-all;\n",
       "    font-family: \"Menlo\", \"Monaco\", \"Consolas\", \"Ubuntu Mono\", \"Source Code Pro\", monospace;\n",
       "    font-size: 13px;\n",
       "    color: #555;\n",
       "    margin-left: 4px;\n",
       "    line-height: 19px;\n",
       "  }\n",
       "</style>\n",
       "<div class=\"ansiout\"></div>"
      ]
     },
     "metadata": {
      "application/vnd.databricks.v1+output": {
       "addedWidgets": {},
       "arguments": {},
       "data": "<div class=\"ansiout\"></div>",
       "datasetInfos": [],
       "metadata": {},
       "removedWidgets": [],
       "type": "html"
      }
     },
     "output_type": "display_data"
    }
   ],
   "source": [
    "df_pin_cleaned = (\n",
    "    # Drop duplicates\n",
    "    df_pin_pre_cleaning.drop_duplicates([column_name for column_name, data_type in df_pin_pre_cleaning.dtypes])\n",
    "        # Replace entries with no relevant data in each column with Nones\n",
    "        .withColumn(\"follower_count\", F.when(F.col(\"follower_count\") == \"User Info Error\", None)\n",
    "                    .otherwise(F.col(\"follower_count\")))\n",
    "        .withColumn(\"image_src\", F.when(F.col(\"image_src\") == \"Image src error.\", None)\n",
    "                    .otherwise(F.col(\"image_src\")))\n",
    "        .withColumn(\"poster_name\", F.when(F.col(\"poster_name\") == \"User Info Error\", None)\n",
    "                    .otherwise(F.col(\"poster_name\")))\n",
    "        \n",
    "        # Convert follower_count columns with k/M\n",
    "        .withColumn(\"follower_count\", F.when(F.col(\"follower_count\").endswith(\"k\"), expr(\"substring(follower_count, 1, length(follower_count)-1)\") * 1000)\n",
    "                    .otherwise(F.col(\"follower_count\")))\n",
    "        .withColumn(\"follower_count\", F.when(F.col(\"follower_count\").endswith(\"M\"), expr(\"substring(follower_count, 1, length(follower_count)-1)\") * 1000000)\n",
    "                    .otherwise(F.col(\"follower_count\")))\n",
    "        \n",
    "        # Clean the data in the save_location column to include only the save location path\n",
    "        .withColumn(\"save_location\", F.split(\"save_location\", \"Local save in\"))\n",
    "        .withColumn(\"save_location\", F.col(\"save_location\")[F.size(\"save_location\") -1])\n",
    "\n",
    "        .withColumnRenamed(\"index\", \"ind\")\n",
    ")"
   ]
  },
  {
   "cell_type": "code",
   "execution_count": 0,
   "metadata": {
    "application/vnd.databricks.v1+cell": {
     "cellMetadata": {
      "byteLimit": 2048000,
      "rowLimit": 10000
     },
     "inputWidgets": {},
     "nuid": "6cadb6b8-79ea-4b78-b65f-0479138d613b",
     "showTitle": false,
     "title": ""
    }
   },
   "outputs": [
    {
     "output_type": "display_data",
     "data": {
      "text/html": [
       "<style scoped>\n",
       "  .ansiout {\n",
       "    display: block;\n",
       "    unicode-bidi: embed;\n",
       "    white-space: pre-wrap;\n",
       "    word-wrap: break-word;\n",
       "    word-break: break-all;\n",
       "    font-family: \"Menlo\", \"Monaco\", \"Consolas\", \"Ubuntu Mono\", \"Source Code Pro\", monospace;\n",
       "    font-size: 13px;\n",
       "    color: #555;\n",
       "    margin-left: 4px;\n",
       "    line-height: 19px;\n",
       "  }\n",
       "</style>\n",
       "<div class=\"ansiout\"></div>"
      ]
     },
     "metadata": {
      "application/vnd.databricks.v1+output": {
       "addedWidgets": {},
       "arguments": {},
       "data": "<div class=\"ansiout\"></div>",
       "datasetInfos": [],
       "metadata": {},
       "removedWidgets": [],
       "type": "html"
      }
     },
     "output_type": "display_data"
    }
   ],
   "source": [
    "df_pin = (df_pin_cleaned\n",
    "          .withColumn(\"follower_count\", df_pin_cleaned[\"follower_count\"].cast(IntegerType()))\n",
    "          .withColumn(\"index\", df_pin_cleaned[\"ind\"].cast(IntegerType()))          \n",
    "          .select(\"ind\", \"unique_id\", \"title\", \"description\", \"follower_count\", \"poster_name\", \"tag_list\", \"is_image_or_video\", \"image_src\", \"save_location\", \"category\")          \n",
    ")"
   ]
  },
  {
   "cell_type": "code",
   "execution_count": 0,
   "metadata": {
    "application/vnd.databricks.v1+cell": {
     "cellMetadata": {
      "byteLimit": 2048000,
      "rowLimit": 10000
     },
     "inputWidgets": {},
     "nuid": "263d98f4-38d8-49e1-a639-ee02b1bb57fd",
     "showTitle": false,
     "title": ""
    }
   },
   "outputs": [
    {
     "output_type": "display_data",
     "data": {
      "text/html": [
       "<style scoped>\n",
       "  .ansiout {\n",
       "    display: block;\n",
       "    unicode-bidi: embed;\n",
       "    white-space: pre-wrap;\n",
       "    word-wrap: break-word;\n",
       "    word-break: break-all;\n",
       "    font-family: \"Menlo\", \"Monaco\", \"Consolas\", \"Ubuntu Mono\", \"Source Code Pro\", monospace;\n",
       "    font-size: 13px;\n",
       "    color: #555;\n",
       "    margin-left: 4px;\n",
       "    line-height: 19px;\n",
       "  }\n",
       "</style>\n",
       "<div class=\"ansiout\"></div>"
      ]
     },
     "metadata": {
      "application/vnd.databricks.v1+output": {
       "addedWidgets": {},
       "arguments": {},
       "data": "<div class=\"ansiout\"></div>",
       "datasetInfos": [],
       "metadata": {},
       "removedWidgets": [],
       "type": "html"
      }
     },
     "output_type": "display_data"
    }
   ],
   "source": [
    "df_geo = (\n",
    "    df_geo_pre_cleaning.drop_duplicates([column_name for column_name, data_type in df_geo_pre_cleaning.dtypes])\n",
    "    .withColumn(\"coordinates\", F.array(\"latitude\", \"longitude\"))\n",
    "    .withColumn(\"timestamp\", F.to_timestamp(\"timestamp\"))\n",
    "    .select(\"ind\", \"country\", \"coordinates\", \"timestamp\")\n",
    ")"
   ]
  },
  {
   "cell_type": "code",
   "execution_count": 0,
   "metadata": {
    "application/vnd.databricks.v1+cell": {
     "cellMetadata": {
      "byteLimit": 2048000,
      "rowLimit": 10000
     },
     "inputWidgets": {},
     "nuid": "43532708-9a52-46e7-aefe-38240b0963f9",
     "showTitle": false,
     "title": ""
    }
   },
   "outputs": [
    {
     "output_type": "display_data",
     "data": {
      "text/html": [
       "<style scoped>\n",
       "  .ansiout {\n",
       "    display: block;\n",
       "    unicode-bidi: embed;\n",
       "    white-space: pre-wrap;\n",
       "    word-wrap: break-word;\n",
       "    word-break: break-all;\n",
       "    font-family: \"Menlo\", \"Monaco\", \"Consolas\", \"Ubuntu Mono\", \"Source Code Pro\", monospace;\n",
       "    font-size: 13px;\n",
       "    color: #555;\n",
       "    margin-left: 4px;\n",
       "    line-height: 19px;\n",
       "  }\n",
       "</style>\n",
       "<div class=\"ansiout\"></div>"
      ]
     },
     "metadata": {
      "application/vnd.databricks.v1+output": {
       "addedWidgets": {},
       "arguments": {},
       "data": "<div class=\"ansiout\"></div>",
       "datasetInfos": [],
       "metadata": {},
       "removedWidgets": [],
       "type": "html"
      }
     },
     "output_type": "display_data"
    }
   ],
   "source": [
    "df_user = (\n",
    "     df_user_pre_cleaning.drop_duplicates([column_name for column_name, data_type in df_user_pre_cleaning.dtypes])\n",
    "     .withColumn(\"user_name\", F.concat(F.col(\"first_name\"), F.lit(\" \"), F.col(\"last_name\")))\n",
    "     .withColumn(\"date_joined\", F.to_timestamp(\"date_joined\"))\n",
    "     .select(\"ind\", \"user_name\", \"age\", \"date_joined\")    \n",
    ")"
   ]
  },
  {
   "cell_type": "code",
   "execution_count": 0,
   "metadata": {
    "application/vnd.databricks.v1+cell": {
     "cellMetadata": {
      "byteLimit": 2048000,
      "rowLimit": 10000
     },
     "inputWidgets": {},
     "nuid": "16e4ad29-2865-403c-af49-c77b61bbe6e3",
     "showTitle": false,
     "title": ""
    }
   },
   "outputs": [
    {
     "output_type": "display_data",
     "data": {
      "text/html": [
       "<style scoped>\n",
       "  .table-result-container {\n",
       "    max-height: 300px;\n",
       "    overflow: auto;\n",
       "  }\n",
       "  table, th, td {\n",
       "    border: 1px solid black;\n",
       "    border-collapse: collapse;\n",
       "  }\n",
       "  th, td {\n",
       "    padding: 5px;\n",
       "  }\n",
       "  th {\n",
       "    text-align: left;\n",
       "  }\n",
       "</style><div class='table-result-container'><table class='table-result'><thead style='background-color: white'><tr><th>ind</th><th>country</th><th>coordinates</th><th>timestamp</th></tr></thead><tbody><tr><td>7733</td><td>Algeria</td><td>List(-89.5173, -179.689)</td><td>2022-09-29T10:45:19.000+0000</td></tr><tr><td>159</td><td>Andorra</td><td>List(-88.0812, -166.603)</td><td>2017-11-20T21:14:56.000+0000</td></tr><tr><td>8300</td><td>Chile</td><td>List(-64.5259, 19.7049)</td><td>2018-02-14T23:50:10.000+0000</td></tr><tr><td>1198</td><td>Finland</td><td>List(6.37207, -150.73)</td><td>2020-01-24T23:42:18.000+0000</td></tr><tr><td>5076</td><td>Germany</td><td>List(-70.7195, -91.1935)</td><td>2019-05-05T16:22:23.000+0000</td></tr><tr><td>772</td><td>Monaco</td><td>List(25.0708, -97.1964)</td><td>2022-09-22T05:59:55.000+0000</td></tr><tr><td>5293</td><td>Sao Tome and Principe</td><td>List(-13.1463, -25.9649)</td><td>2019-05-31T20:49:36.000+0000</td></tr><tr><td>2015</td><td>Armenia</td><td>List(-17.629, -177.685)</td><td>2018-09-22T13:52:19.000+0000</td></tr><tr><td>4315</td><td>Cote d'Ivoire</td><td>List(-45.8508, 66.1003)</td><td>2019-12-15T03:51:28.000+0000</td></tr><tr><td>223</td><td>Isle of Man</td><td>List(1.15509, -118.397)</td><td>2018-12-07T07:30:40.000+0000</td></tr><tr><td>9475</td><td>Panama</td><td>List(-84.1953, 164.362)</td><td>2019-03-19T08:26:35.000+0000</td></tr><tr><td>7790</td><td>Papua New Guinea</td><td>List(-43.692, 64.9839)</td><td>2018-07-31T08:19:15.000+0000</td></tr><tr><td>6145</td><td>Mozambique</td><td>List(-65.9079, -143.845)</td><td>2019-12-05T02:09:44.000+0000</td></tr><tr><td>2959</td><td>Angola</td><td>List(-68.0095, -157.227)</td><td>2019-08-19T08:22:02.000+0000</td></tr><tr><td>3089</td><td>Albania</td><td>List(-89.9787, -173.293)</td><td>2018-02-28T05:31:29.000+0000</td></tr><tr><td>232</td><td>Tanzania</td><td>List(6.60912, -173.609)</td><td>2019-02-18T03:38:47.000+0000</td></tr><tr><td>4913</td><td>Aruba</td><td>List(-84.3768, -157.544)</td><td>2019-03-08T06:45:39.000+0000</td></tr><tr><td>10509</td><td>Gibraltar</td><td>List(-67.187, -24.2977)</td><td>2019-03-06T12:21:56.000+0000</td></tr><tr><td>7586</td><td>Andorra</td><td>List(-84.7363, -179.087)</td><td>2021-02-07T22:17:31.000+0000</td></tr><tr><td>859</td><td>Romania</td><td>List(89.8261, 48.2256)</td><td>2020-04-07T19:23:24.000+0000</td></tr><tr><td>1094</td><td>Armenia</td><td>List(-46.7328, -124.445)</td><td>2018-08-19T00:34:20.000+0000</td></tr><tr><td>9487</td><td>Canada</td><td>List(-76.9532, -113.641)</td><td>2018-12-18T11:16:52.000+0000</td></tr><tr><td>6014</td><td>French Southern Territories</td><td>List(-26.6026, 155.206)</td><td>2019-04-30T12:33:13.000+0000</td></tr><tr><td>831</td><td>Congo</td><td>List(-43.7816, -66.1592)</td><td>2021-06-23T23:16:10.000+0000</td></tr><tr><td>7832</td><td>Israel</td><td>List(-53.8629, 91.8136)</td><td>2022-02-14T13:47:24.000+0000</td></tr><tr><td>7234</td><td>Algeria</td><td>List(-86.4791, -169.547)</td><td>2017-10-21T14:31:02.000+0000</td></tr><tr><td>5162</td><td>Antarctica (the territory South of 60 deg S)</td><td>List(-71.6607, -149.206)</td><td>2019-09-27T19:06:43.000+0000</td></tr><tr><td>2923</td><td>Cote d'Ivoire</td><td>List(-84.6302, -164.507)</td><td>2019-09-08T22:53:09.000+0000</td></tr><tr><td>2604</td><td>Antigua and Barbuda</td><td>List(-80.8933, -104.972)</td><td>2018-12-01T09:23:35.000+0000</td></tr><tr><td>1555</td><td>Algeria</td><td>List(-1.7046, -55.332)</td><td>2017-12-24T18:41:23.000+0000</td></tr><tr><td>9074</td><td>Andorra</td><td>List(-84.7363, -179.087)</td><td>2022-04-10T17:06:13.000+0000</td></tr><tr><td>4508</td><td>Philippines</td><td>List(69.1858, -76.0761)</td><td>2019-01-04T11:15:27.000+0000</td></tr><tr><td>450</td><td>Antigua and Barbuda</td><td>List(-81.0108, -165.206)</td><td>2018-09-28T05:43:18.000+0000</td></tr><tr><td>3800</td><td>Aruba</td><td>List(-61.471, -154.912)</td><td>2018-01-27T16:49:07.000+0000</td></tr><tr><td>1268</td><td>Argentina</td><td>List(-41.7803, -177.23)</td><td>2019-07-06T04:10:29.000+0000</td></tr><tr><td>3156</td><td>Armenia</td><td>List(-84.738, -160.795)</td><td>2018-01-13T19:33:49.000+0000</td></tr><tr><td>1450</td><td>American Samoa</td><td>List(-88.5252, -172.436)</td><td>2022-01-15T16:04:27.000+0000</td></tr><tr><td>7167</td><td>Ecuador</td><td>List(-55.757, -157.572)</td><td>2019-12-27T20:45:04.000+0000</td></tr><tr><td>6063</td><td>Anguilla</td><td>List(-89.1797, -174.015)</td><td>2021-07-20T09:02:47.000+0000</td></tr><tr><td>3729</td><td>Turkey</td><td>List(-24.4793, -150.145)</td><td>2018-01-17T03:43:38.000+0000</td></tr><tr><td>1362</td><td>Ghana</td><td>List(48.3704, 92.28)</td><td>2022-07-20T05:38:18.000+0000</td></tr><tr><td>8978</td><td>Faroe Islands</td><td>List(-2.01499, 3.78198)</td><td>2017-12-01T13:26:06.000+0000</td></tr><tr><td>7554</td><td>Sudan</td><td>List(-51.2172, -77.9768)</td><td>2019-03-20T03:15:07.000+0000</td></tr><tr><td>3750</td><td>Comoros</td><td>List(-73.8837, -159.054)</td><td>2022-09-03T23:36:08.000+0000</td></tr><tr><td>6261</td><td>Marshall Islands</td><td>List(-10.3101, -109.763)</td><td>2021-11-11T16:18:45.000+0000</td></tr><tr><td>3716</td><td>Lithuania</td><td>List(32.6648, -16.0578)</td><td>2018-12-31T20:43:42.000+0000</td></tr><tr><td>778</td><td>Guatemala</td><td>List(48.2704, -123.073)</td><td>2018-10-19T14:43:39.000+0000</td></tr><tr><td>8606</td><td>Antigua and Barbuda</td><td>List(-88.0974, -172.052)</td><td>2021-03-28T14:54:07.000+0000</td></tr><tr><td>1014</td><td>Tonga</td><td>List(81.1477, 69.3538)</td><td>2022-02-03T22:05:34.000+0000</td></tr><tr><td>8886</td><td>American Samoa</td><td>List(-88.2286, -178.919)</td><td>2022-01-16T10:17:16.000+0000</td></tr><tr><td>1371</td><td>Andorra</td><td>List(-89.4584, -134.271)</td><td>2018-08-08T04:41:17.000+0000</td></tr><tr><td>995</td><td>Moldova</td><td>List(-88.0923, -179.319)</td><td>2022-09-22T12:17:57.000+0000</td></tr><tr><td>2411</td><td>Albania</td><td>List(-71.6856, -179.126)</td><td>2020-11-15T17:10:07.000+0000</td></tr><tr><td>10673</td><td>Nicaragua</td><td>List(37.1991, -32.1713)</td><td>2021-06-30T08:47:01.000+0000</td></tr><tr><td>7738</td><td>Comoros</td><td>List(66.8478, 22.777)</td><td>2017-11-12T03:45:21.000+0000</td></tr><tr><td>5742</td><td>Jamaica</td><td>List(-73.4926, -61.56)</td><td>2020-09-02T01:40:18.000+0000</td></tr><tr><td>1704</td><td>Christmas Island</td><td>List(-56.8702, -93.6232)</td><td>2018-11-29T04:46:39.000+0000</td></tr><tr><td>10245</td><td>Bahamas</td><td>List(-50.1835, 146.776)</td><td>2020-03-03T15:39:44.000+0000</td></tr><tr><td>10625</td><td>Jamaica</td><td>List(-84.4944, -81.0613)</td><td>2018-07-13T11:51:15.000+0000</td></tr><tr><td>7510</td><td>Aruba</td><td>List(-79.9828, -172.235)</td><td>2021-12-21T01:37:25.000+0000</td></tr><tr><td>5333</td><td>Croatia</td><td>List(-86.6652, -173.898)</td><td>2021-01-20T08:10:08.000+0000</td></tr><tr><td>1545</td><td>Anguilla</td><td>List(-30.18, -72.3784)</td><td>2022-06-17T05:47:12.000+0000</td></tr><tr><td>1706</td><td>Aruba</td><td>List(-71.5025, -179.257)</td><td>2017-11-24T23:36:46.000+0000</td></tr><tr><td>10168</td><td>Norway</td><td>List(-14.7211, 137.812)</td><td>2019-10-14T00:19:33.000+0000</td></tr><tr><td>428</td><td>Bangladesh</td><td>List(-83.4105, -150.788)</td><td>2020-09-27T18:46:41.000+0000</td></tr><tr><td>808</td><td>Albania</td><td>List(-71.6856, -179.126)</td><td>2019-01-03T15:43:12.000+0000</td></tr><tr><td>7294</td><td>Australia</td><td>List(-76.2967, -136.501)</td><td>2018-02-12T08:06:28.000+0000</td></tr><tr><td>1864</td><td>Algeria</td><td>List(-72.3958, -164.414)</td><td>2020-04-24T17:08:13.000+0000</td></tr><tr><td>6558</td><td>Guadeloupe</td><td>List(-26.4944, -174.009)</td><td>2019-09-08T03:27:31.000+0000</td></tr><tr><td>2418</td><td>Antarctica (the territory South of 60 deg S)</td><td>List(-88.4642, -171.061)</td><td>2022-05-27T11:30:59.000+0000</td></tr><tr><td>2698</td><td>Egypt</td><td>List(-72.7174, 24.169)</td><td>2021-11-24T08:33:51.000+0000</td></tr><tr><td>9268</td><td>American Samoa</td><td>List(-88.5255, -161.644)</td><td>2020-03-16T23:13:51.000+0000</td></tr><tr><td>480</td><td>Mozambique</td><td>List(-30.7158, -167.461)</td><td>2019-02-08T03:34:58.000+0000</td></tr><tr><td>2074</td><td>Central African Republic</td><td>List(-52.3213, -50.11)</td><td>2019-11-03T05:41:59.000+0000</td></tr><tr><td>9672</td><td>India</td><td>List(79.4658, -69.4133)</td><td>2019-11-03T13:15:52.000+0000</td></tr><tr><td>719</td><td>Armenia</td><td>List(-38.4062, -154.323)</td><td>2018-10-29T04:05:12.000+0000</td></tr><tr><td>552</td><td>Lesotho</td><td>List(-80.6043, 31.9601)</td><td>2022-03-14T05:12:07.000+0000</td></tr><tr><td>10337</td><td>Christmas Island</td><td>List(-42.3069, -109.17)</td><td>2021-10-26T12:09:43.000+0000</td></tr><tr><td>2498</td><td>Togo</td><td>List(61.4706, -51.05)</td><td>2021-04-03T18:10:34.000+0000</td></tr><tr><td>7343</td><td>Australia</td><td>List(-65.4428, -161.684)</td><td>2018-08-06T12:17:07.000+0000</td></tr><tr><td>327</td><td>Gibraltar</td><td>List(62.3674, 100.972)</td><td>2022-02-09T03:03:58.000+0000</td></tr><tr><td>205</td><td>Barbados</td><td>List(-75.8378, -163.945)</td><td>2020-07-08T14:10:38.000+0000</td></tr><tr><td>3599</td><td>Afghanistan</td><td>List(-88.5478, -174.971)</td><td>2019-03-03T06:13:41.000+0000</td></tr><tr><td>2955</td><td>Antigua and Barbuda</td><td>List(23.7768, -23.4838)</td><td>2022-10-11T17:21:06.000+0000</td></tr><tr><td>2060</td><td>Trinidad and Tobago</td><td>List(52.4584, 68.6527)</td><td>2020-01-25T13:54:17.000+0000</td></tr><tr><td>9590</td><td>Algeria</td><td>List(-64.3876, -174.281)</td><td>2019-05-20T19:48:48.000+0000</td></tr><tr><td>9093</td><td>Austria</td><td>List(-87.7764, -151.645)</td><td>2021-07-24T23:07:06.000+0000</td></tr><tr><td>8578</td><td>Guinea-Bissau</td><td>List(34.6427, -161.397)</td><td>2018-01-26T19:27:11.000+0000</td></tr><tr><td>427</td><td>Isle of Man</td><td>List(-66.9418, -30.0087)</td><td>2020-04-22T03:08:50.000+0000</td></tr><tr><td>3145</td><td>Kenya</td><td>List(-57.5981, -19.8932)</td><td>2022-06-18T22:46:26.000+0000</td></tr><tr><td>7528</td><td>Albania</td><td>List(-89.9787, -173.293)</td><td>2020-08-28T03:52:47.000+0000</td></tr><tr><td>3454</td><td>Cambodia</td><td>List(-0.375174, 49.8106)</td><td>2021-07-25T02:20:29.000+0000</td></tr><tr><td>10119</td><td>Christmas Island</td><td>List(-74.5431, -162.795)</td><td>2020-10-22T01:59:58.000+0000</td></tr><tr><td>7874</td><td>Algeria</td><td>List(-89.5173, -179.689)</td><td>2022-01-18T08:58:49.000+0000</td></tr><tr><td>2048</td><td>Antigua and Barbuda</td><td>List(-89.4008, -142.186)</td><td>2017-11-20T06:33:50.000+0000</td></tr><tr><td>1313</td><td>Maldives</td><td>List(77.0447, 61.9119)</td><td>2018-06-26T02:39:25.000+0000</td></tr><tr><td>10663</td><td>Saint Kitts and Nevis</td><td>List(-27.3474, -162.83)</td><td>2019-07-25T18:53:51.000+0000</td></tr><tr><td>5630</td><td>Bahrain</td><td>List(-19.1403, -164.987)</td><td>2019-05-12T14:43:19.000+0000</td></tr><tr><td>2301</td><td>Saint Vincent and the Grenadines</td><td>List(13.4683, 51.7244)</td><td>2020-11-14T00:25:28.000+0000</td></tr><tr><td>10370</td><td>Finland</td><td>List(-81.9798, -71.932)</td><td>2018-07-29T15:53:40.000+0000</td></tr><tr><td>1961</td><td>Argentina</td><td>List(-65.3952, -175.249)</td><td>2022-07-29T18:16:50.000+0000</td></tr><tr><td>2863</td><td>Armenia</td><td>List(-5.34445, -177.924)</td><td>2020-04-27T13:34:16.000+0000</td></tr><tr><td>5309</td><td>Maldives</td><td>List(-89.4194, -84.2493)</td><td>2020-05-04T22:00:32.000+0000</td></tr><tr><td>3945</td><td>Barbados</td><td>List(-66.2816, -142.673)</td><td>2022-04-17T02:01:53.000+0000</td></tr><tr><td>6844</td><td>New Caledonia</td><td>List(-22.6915, 5.69245)</td><td>2021-06-06T21:53:11.000+0000</td></tr><tr><td>7922</td><td>Antigua and Barbuda</td><td>List(-88.0974, -172.052)</td><td>2021-01-27T09:14:19.000+0000</td></tr><tr><td>10794</td><td>Cocos (Keeling) Islands</td><td>List(-89.5236, -154.567)</td><td>2022-01-01T02:26:50.000+0000</td></tr><tr><td>1521</td><td>Saint Helena</td><td>List(24.5192, 64.9674)</td><td>2022-10-12T14:03:26.000+0000</td></tr><tr><td>8887</td><td>Botswana</td><td>List(-28.0137, -160.708)</td><td>2021-09-19T05:27:43.000+0000</td></tr><tr><td>8653</td><td>Seychelles</td><td>List(48.4569, -139.658)</td><td>2022-04-11T18:30:19.000+0000</td></tr><tr><td>2637</td><td>Tunisia</td><td>List(3.0033, -96.4904)</td><td>2022-10-15T13:25:51.000+0000</td></tr><tr><td>6566</td><td>Cape Verde</td><td>List(-39.225, -71.6593)</td><td>2020-11-19T10:06:13.000+0000</td></tr><tr><td>9759</td><td>American Samoa</td><td>List(-77.9744, -106.258)</td><td>2017-12-30T13:05:49.000+0000</td></tr><tr><td>10138</td><td>Austria</td><td>List(-72.142, -74.3545)</td><td>2019-08-03T00:59:29.000+0000</td></tr><tr><td>3184</td><td>Cape Verde</td><td>List(-41.293, -171.585)</td><td>2018-09-25T23:17:46.000+0000</td></tr><tr><td>2482</td><td>Bermuda</td><td>List(63.4563, -164.709)</td><td>2019-09-13T08:20:13.000+0000</td></tr><tr><td>3419</td><td>Bhutan</td><td>List(7.60293, -108.979)</td><td>2021-12-20T05:01:54.000+0000</td></tr><tr><td>6250</td><td>Austria</td><td>List(-73.2098, -150.856)</td><td>2020-11-22T18:28:02.000+0000</td></tr><tr><td>9778</td><td>Guam</td><td>List(85.2343, 126.628)</td><td>2020-08-24T14:24:42.000+0000</td></tr><tr><td>8930</td><td>Argentina</td><td>List(-89.4739, -176.154)</td><td>2021-09-29T13:25:49.000+0000</td></tr><tr><td>3563</td><td>Saint Barthelemy</td><td>List(-77.3153, -69.505)</td><td>2018-09-05T07:40:01.000+0000</td></tr><tr><td>7768</td><td>Algeria</td><td>List(-88.355, -96.0131)</td><td>2018-05-25T21:34:19.000+0000</td></tr><tr><td>2788</td><td>Djibouti</td><td>List(-36.076, -94.1779)</td><td>2019-12-18T03:04:41.000+0000</td></tr><tr><td>3201</td><td>Pitcairn Islands</td><td>List(34.0532, -68.4946)</td><td>2019-06-25T08:31:37.000+0000</td></tr><tr><td>2565</td><td>Bulgaria</td><td>List(-87.4992, -177.336)</td><td>2022-02-06T13:42:35.000+0000</td></tr><tr><td>10552</td><td>Grenada</td><td>List(32.7568, -179.812)</td><td>2020-08-24T11:39:32.000+0000</td></tr><tr><td>5758</td><td>Azerbaijan</td><td>List(-79.3714, -145.242)</td><td>2018-09-12T15:08:34.000+0000</td></tr><tr><td>7166</td><td>Aruba</td><td>List(-86.4063, -136.657)</td><td>2022-07-25T03:07:37.000+0000</td></tr><tr><td>5730</td><td>Colombia</td><td>List(-77.015, -101.437)</td><td>2021-04-19T17:37:03.000+0000</td></tr><tr><td>1137</td><td>Seychelles</td><td>List(12.2544, 10.7361)</td><td>2020-12-26T00:56:04.000+0000</td></tr><tr><td>8304</td><td>French Guiana</td><td>List(-28.8852, -164.87)</td><td>2019-09-13T04:50:29.000+0000</td></tr><tr><td>3351</td><td>Portugal</td><td>List(-9.11859, -96.9091)</td><td>2020-09-12T10:34:11.000+0000</td></tr><tr><td>46</td><td>Afghanistan</td><td>List(4.21689, -145.82)</td><td>2018-09-15T09:16:57.000+0000</td></tr><tr><td>4996</td><td>Poland</td><td>List(39.9625, -118.569)</td><td>2019-04-16T23:49:42.000+0000</td></tr><tr><td>2858</td><td>Argentina</td><td>List(-65.1565, -166.807)</td><td>2018-05-03T13:27:09.000+0000</td></tr><tr><td>603</td><td>Netherlands Antilles</td><td>List(14.0083, -141.603)</td><td>2019-06-25T05:13:01.000+0000</td></tr><tr><td>5494</td><td>Bulgaria</td><td>List(-82.6768, -129.202)</td><td>2021-07-21T02:02:35.000+0000</td></tr><tr><td>9979</td><td>Dominican Republic</td><td>List(14.9967, -120.682)</td><td>2018-07-18T19:01:46.000+0000</td></tr><tr><td>8731</td><td>Aruba</td><td>List(-83.104, -171.302)</td><td>2020-07-17T04:39:09.000+0000</td></tr><tr><td>6398</td><td>Albania</td><td>List(-3.29267, -179.726)</td><td>2020-01-19T01:49:05.000+0000</td></tr><tr><td>3334</td><td>Anguilla</td><td>List(-89.0609, -170.904)</td><td>2019-09-26T20:13:48.000+0000</td></tr><tr><td>4076</td><td>Mauritania</td><td>List(-67.2157, 27.8139)</td><td>2019-06-07T20:13:50.000+0000</td></tr><tr><td>2293</td><td>British Virgin Islands</td><td>List(-87.7946, -159.647)</td><td>2022-03-21T10:46:53.000+0000</td></tr><tr><td>4988</td><td>Madagascar</td><td>List(-32.1879, -35.2784)</td><td>2020-07-11T11:01:12.000+0000</td></tr><tr><td>8366</td><td>Kuwait</td><td>List(-38.5318, -139.215)</td><td>2018-03-28T14:17:11.000+0000</td></tr><tr><td>3011</td><td>Kuwait</td><td>List(-76.4675, 28.8054)</td><td>2019-12-17T17:46:18.000+0000</td></tr><tr><td>1422</td><td>American Samoa</td><td>List(-88.5252, -172.436)</td><td>2018-04-30T08:27:21.000+0000</td></tr><tr><td>9875</td><td>Barbados</td><td>List(-74.3382, -110.484)</td><td>2020-03-20T13:03:18.000+0000</td></tr><tr><td>1699</td><td>Canada</td><td>List(-54.3706, -127.783)</td><td>2022-07-03T13:25:48.000+0000</td></tr><tr><td>4357</td><td>Bahamas</td><td>List(-75.4909, -179.908)</td><td>2020-03-06T09:56:43.000+0000</td></tr><tr><td>4137</td><td>Australia</td><td>List(-55.3079, 108.918)</td><td>2019-06-23T22:16:34.000+0000</td></tr><tr><td>9546</td><td>Austria</td><td>List(-70.0295, -155.428)</td><td>2018-02-10T06:16:40.000+0000</td></tr><tr><td>1967</td><td>Australia</td><td>List(32.74, -179.581)</td><td>2021-02-05T10:37:28.000+0000</td></tr><tr><td>5468</td><td>Isle of Man</td><td>List(-83.544, 33.9473)</td><td>2020-05-16T23:17:50.000+0000</td></tr><tr><td>4256</td><td>Afghanistan</td><td>List(-88.5478, -174.971)</td><td>2018-10-10T17:57:16.000+0000</td></tr><tr><td>8312</td><td>American Samoa</td><td>List(-77.9744, -106.258)</td><td>2021-04-25T15:56:29.000+0000</td></tr><tr><td>10099</td><td>Afghanistan</td><td>List(-89.4261, -171.58)</td><td>2020-12-24T13:33:03.000+0000</td></tr><tr><td>1341</td><td>Albania</td><td>List(-89.9787, -173.293)</td><td>2022-08-11T05:25:33.000+0000</td></tr><tr><td>771</td><td>Montserrat</td><td>List(-29.1712, -107.111)</td><td>2018-06-21T08:42:57.000+0000</td></tr><tr><td>9936</td><td>Australia</td><td>List(-82.1715, -147.691)</td><td>2018-06-30T22:07:13.000+0000</td></tr><tr><td>7268</td><td>Afghanistan</td><td>List(-88.3754, -164.273)</td><td>2019-12-11T14:05:18.000+0000</td></tr><tr><td>5069</td><td>Azerbaijan</td><td>List(-63.0063, -157.474)</td><td>2021-03-20T09:32:44.000+0000</td></tr><tr><td>5151</td><td>Guatemala</td><td>List(-47.3372, -151.397)</td><td>2020-07-15T01:42:38.000+0000</td></tr></tbody></table></div>"
      ]
     },
     "metadata": {
      "application/vnd.databricks.v1+output": {
       "addedWidgets": {},
       "aggData": [],
       "aggError": "",
       "aggOverflow": false,
       "aggSchema": [],
       "aggSeriesLimitReached": false,
       "aggType": "",
       "arguments": {},
       "columnCustomDisplayInfos": {},
       "data": [
        [
         7733,
         "Algeria",
         [
          -89.5173,
          -179.689
         ],
         "2022-09-29T10:45:19.000+0000"
        ],
        [
         159,
         "Andorra",
         [
          -88.0812,
          -166.603
         ],
         "2017-11-20T21:14:56.000+0000"
        ],
        [
         8300,
         "Chile",
         [
          -64.5259,
          19.7049
         ],
         "2018-02-14T23:50:10.000+0000"
        ],
        [
         1198,
         "Finland",
         [
          6.37207,
          -150.73
         ],
         "2020-01-24T23:42:18.000+0000"
        ],
        [
         5076,
         "Germany",
         [
          -70.7195,
          -91.1935
         ],
         "2019-05-05T16:22:23.000+0000"
        ],
        [
         772,
         "Monaco",
         [
          25.0708,
          -97.1964
         ],
         "2022-09-22T05:59:55.000+0000"
        ],
        [
         5293,
         "Sao Tome and Principe",
         [
          -13.1463,
          -25.9649
         ],
         "2019-05-31T20:49:36.000+0000"
        ],
        [
         2015,
         "Armenia",
         [
          -17.629,
          -177.685
         ],
         "2018-09-22T13:52:19.000+0000"
        ],
        [
         4315,
         "Cote d'Ivoire",
         [
          -45.8508,
          66.1003
         ],
         "2019-12-15T03:51:28.000+0000"
        ],
        [
         223,
         "Isle of Man",
         [
          1.15509,
          -118.397
         ],
         "2018-12-07T07:30:40.000+0000"
        ],
        [
         9475,
         "Panama",
         [
          -84.1953,
          164.362
         ],
         "2019-03-19T08:26:35.000+0000"
        ],
        [
         7790,
         "Papua New Guinea",
         [
          -43.692,
          64.9839
         ],
         "2018-07-31T08:19:15.000+0000"
        ],
        [
         6145,
         "Mozambique",
         [
          -65.9079,
          -143.845
         ],
         "2019-12-05T02:09:44.000+0000"
        ],
        [
         2959,
         "Angola",
         [
          -68.0095,
          -157.227
         ],
         "2019-08-19T08:22:02.000+0000"
        ],
        [
         3089,
         "Albania",
         [
          -89.9787,
          -173.293
         ],
         "2018-02-28T05:31:29.000+0000"
        ],
        [
         232,
         "Tanzania",
         [
          6.60912,
          -173.609
         ],
         "2019-02-18T03:38:47.000+0000"
        ],
        [
         4913,
         "Aruba",
         [
          -84.3768,
          -157.544
         ],
         "2019-03-08T06:45:39.000+0000"
        ],
        [
         10509,
         "Gibraltar",
         [
          -67.187,
          -24.2977
         ],
         "2019-03-06T12:21:56.000+0000"
        ],
        [
         7586,
         "Andorra",
         [
          -84.7363,
          -179.087
         ],
         "2021-02-07T22:17:31.000+0000"
        ],
        [
         859,
         "Romania",
         [
          89.8261,
          48.2256
         ],
         "2020-04-07T19:23:24.000+0000"
        ],
        [
         1094,
         "Armenia",
         [
          -46.7328,
          -124.445
         ],
         "2018-08-19T00:34:20.000+0000"
        ],
        [
         9487,
         "Canada",
         [
          -76.9532,
          -113.641
         ],
         "2018-12-18T11:16:52.000+0000"
        ],
        [
         6014,
         "French Southern Territories",
         [
          -26.6026,
          155.206
         ],
         "2019-04-30T12:33:13.000+0000"
        ],
        [
         831,
         "Congo",
         [
          -43.7816,
          -66.1592
         ],
         "2021-06-23T23:16:10.000+0000"
        ],
        [
         7832,
         "Israel",
         [
          -53.8629,
          91.8136
         ],
         "2022-02-14T13:47:24.000+0000"
        ],
        [
         7234,
         "Algeria",
         [
          -86.4791,
          -169.547
         ],
         "2017-10-21T14:31:02.000+0000"
        ],
        [
         5162,
         "Antarctica (the territory South of 60 deg S)",
         [
          -71.6607,
          -149.206
         ],
         "2019-09-27T19:06:43.000+0000"
        ],
        [
         2923,
         "Cote d'Ivoire",
         [
          -84.6302,
          -164.507
         ],
         "2019-09-08T22:53:09.000+0000"
        ],
        [
         2604,
         "Antigua and Barbuda",
         [
          -80.8933,
          -104.972
         ],
         "2018-12-01T09:23:35.000+0000"
        ],
        [
         1555,
         "Algeria",
         [
          -1.7046,
          -55.332
         ],
         "2017-12-24T18:41:23.000+0000"
        ],
        [
         9074,
         "Andorra",
         [
          -84.7363,
          -179.087
         ],
         "2022-04-10T17:06:13.000+0000"
        ],
        [
         4508,
         "Philippines",
         [
          69.1858,
          -76.0761
         ],
         "2019-01-04T11:15:27.000+0000"
        ],
        [
         450,
         "Antigua and Barbuda",
         [
          -81.0108,
          -165.206
         ],
         "2018-09-28T05:43:18.000+0000"
        ],
        [
         3800,
         "Aruba",
         [
          -61.471,
          -154.912
         ],
         "2018-01-27T16:49:07.000+0000"
        ],
        [
         1268,
         "Argentina",
         [
          -41.7803,
          -177.23
         ],
         "2019-07-06T04:10:29.000+0000"
        ],
        [
         3156,
         "Armenia",
         [
          -84.738,
          -160.795
         ],
         "2018-01-13T19:33:49.000+0000"
        ],
        [
         1450,
         "American Samoa",
         [
          -88.5252,
          -172.436
         ],
         "2022-01-15T16:04:27.000+0000"
        ],
        [
         7167,
         "Ecuador",
         [
          -55.757,
          -157.572
         ],
         "2019-12-27T20:45:04.000+0000"
        ],
        [
         6063,
         "Anguilla",
         [
          -89.1797,
          -174.015
         ],
         "2021-07-20T09:02:47.000+0000"
        ],
        [
         3729,
         "Turkey",
         [
          -24.4793,
          -150.145
         ],
         "2018-01-17T03:43:38.000+0000"
        ],
        [
         1362,
         "Ghana",
         [
          48.3704,
          92.28
         ],
         "2022-07-20T05:38:18.000+0000"
        ],
        [
         8978,
         "Faroe Islands",
         [
          -2.01499,
          3.78198
         ],
         "2017-12-01T13:26:06.000+0000"
        ],
        [
         7554,
         "Sudan",
         [
          -51.2172,
          -77.9768
         ],
         "2019-03-20T03:15:07.000+0000"
        ],
        [
         3750,
         "Comoros",
         [
          -73.8837,
          -159.054
         ],
         "2022-09-03T23:36:08.000+0000"
        ],
        [
         6261,
         "Marshall Islands",
         [
          -10.3101,
          -109.763
         ],
         "2021-11-11T16:18:45.000+0000"
        ],
        [
         3716,
         "Lithuania",
         [
          32.6648,
          -16.0578
         ],
         "2018-12-31T20:43:42.000+0000"
        ],
        [
         778,
         "Guatemala",
         [
          48.2704,
          -123.073
         ],
         "2018-10-19T14:43:39.000+0000"
        ],
        [
         8606,
         "Antigua and Barbuda",
         [
          -88.0974,
          -172.052
         ],
         "2021-03-28T14:54:07.000+0000"
        ],
        [
         1014,
         "Tonga",
         [
          81.1477,
          69.3538
         ],
         "2022-02-03T22:05:34.000+0000"
        ],
        [
         8886,
         "American Samoa",
         [
          -88.2286,
          -178.919
         ],
         "2022-01-16T10:17:16.000+0000"
        ],
        [
         1371,
         "Andorra",
         [
          -89.4584,
          -134.271
         ],
         "2018-08-08T04:41:17.000+0000"
        ],
        [
         995,
         "Moldova",
         [
          -88.0923,
          -179.319
         ],
         "2022-09-22T12:17:57.000+0000"
        ],
        [
         2411,
         "Albania",
         [
          -71.6856,
          -179.126
         ],
         "2020-11-15T17:10:07.000+0000"
        ],
        [
         10673,
         "Nicaragua",
         [
          37.1991,
          -32.1713
         ],
         "2021-06-30T08:47:01.000+0000"
        ],
        [
         7738,
         "Comoros",
         [
          66.8478,
          22.777
         ],
         "2017-11-12T03:45:21.000+0000"
        ],
        [
         5742,
         "Jamaica",
         [
          -73.4926,
          -61.56
         ],
         "2020-09-02T01:40:18.000+0000"
        ],
        [
         1704,
         "Christmas Island",
         [
          -56.8702,
          -93.6232
         ],
         "2018-11-29T04:46:39.000+0000"
        ],
        [
         10245,
         "Bahamas",
         [
          -50.1835,
          146.776
         ],
         "2020-03-03T15:39:44.000+0000"
        ],
        [
         10625,
         "Jamaica",
         [
          -84.4944,
          -81.0613
         ],
         "2018-07-13T11:51:15.000+0000"
        ],
        [
         7510,
         "Aruba",
         [
          -79.9828,
          -172.235
         ],
         "2021-12-21T01:37:25.000+0000"
        ],
        [
         5333,
         "Croatia",
         [
          -86.6652,
          -173.898
         ],
         "2021-01-20T08:10:08.000+0000"
        ],
        [
         1545,
         "Anguilla",
         [
          -30.18,
          -72.3784
         ],
         "2022-06-17T05:47:12.000+0000"
        ],
        [
         1706,
         "Aruba",
         [
          -71.5025,
          -179.257
         ],
         "2017-11-24T23:36:46.000+0000"
        ],
        [
         10168,
         "Norway",
         [
          -14.7211,
          137.812
         ],
         "2019-10-14T00:19:33.000+0000"
        ],
        [
         428,
         "Bangladesh",
         [
          -83.4105,
          -150.788
         ],
         "2020-09-27T18:46:41.000+0000"
        ],
        [
         808,
         "Albania",
         [
          -71.6856,
          -179.126
         ],
         "2019-01-03T15:43:12.000+0000"
        ],
        [
         7294,
         "Australia",
         [
          -76.2967,
          -136.501
         ],
         "2018-02-12T08:06:28.000+0000"
        ],
        [
         1864,
         "Algeria",
         [
          -72.3958,
          -164.414
         ],
         "2020-04-24T17:08:13.000+0000"
        ],
        [
         6558,
         "Guadeloupe",
         [
          -26.4944,
          -174.009
         ],
         "2019-09-08T03:27:31.000+0000"
        ],
        [
         2418,
         "Antarctica (the territory South of 60 deg S)",
         [
          -88.4642,
          -171.061
         ],
         "2022-05-27T11:30:59.000+0000"
        ],
        [
         2698,
         "Egypt",
         [
          -72.7174,
          24.169
         ],
         "2021-11-24T08:33:51.000+0000"
        ],
        [
         9268,
         "American Samoa",
         [
          -88.5255,
          -161.644
         ],
         "2020-03-16T23:13:51.000+0000"
        ],
        [
         480,
         "Mozambique",
         [
          -30.7158,
          -167.461
         ],
         "2019-02-08T03:34:58.000+0000"
        ],
        [
         2074,
         "Central African Republic",
         [
          -52.3213,
          -50.11
         ],
         "2019-11-03T05:41:59.000+0000"
        ],
        [
         9672,
         "India",
         [
          79.4658,
          -69.4133
         ],
         "2019-11-03T13:15:52.000+0000"
        ],
        [
         719,
         "Armenia",
         [
          -38.4062,
          -154.323
         ],
         "2018-10-29T04:05:12.000+0000"
        ],
        [
         552,
         "Lesotho",
         [
          -80.6043,
          31.9601
         ],
         "2022-03-14T05:12:07.000+0000"
        ],
        [
         10337,
         "Christmas Island",
         [
          -42.3069,
          -109.17
         ],
         "2021-10-26T12:09:43.000+0000"
        ],
        [
         2498,
         "Togo",
         [
          61.4706,
          -51.05
         ],
         "2021-04-03T18:10:34.000+0000"
        ],
        [
         7343,
         "Australia",
         [
          -65.4428,
          -161.684
         ],
         "2018-08-06T12:17:07.000+0000"
        ],
        [
         327,
         "Gibraltar",
         [
          62.3674,
          100.972
         ],
         "2022-02-09T03:03:58.000+0000"
        ],
        [
         205,
         "Barbados",
         [
          -75.8378,
          -163.945
         ],
         "2020-07-08T14:10:38.000+0000"
        ],
        [
         3599,
         "Afghanistan",
         [
          -88.5478,
          -174.971
         ],
         "2019-03-03T06:13:41.000+0000"
        ],
        [
         2955,
         "Antigua and Barbuda",
         [
          23.7768,
          -23.4838
         ],
         "2022-10-11T17:21:06.000+0000"
        ],
        [
         2060,
         "Trinidad and Tobago",
         [
          52.4584,
          68.6527
         ],
         "2020-01-25T13:54:17.000+0000"
        ],
        [
         9590,
         "Algeria",
         [
          -64.3876,
          -174.281
         ],
         "2019-05-20T19:48:48.000+0000"
        ],
        [
         9093,
         "Austria",
         [
          -87.7764,
          -151.645
         ],
         "2021-07-24T23:07:06.000+0000"
        ],
        [
         8578,
         "Guinea-Bissau",
         [
          34.6427,
          -161.397
         ],
         "2018-01-26T19:27:11.000+0000"
        ],
        [
         427,
         "Isle of Man",
         [
          -66.9418,
          -30.0087
         ],
         "2020-04-22T03:08:50.000+0000"
        ],
        [
         3145,
         "Kenya",
         [
          -57.5981,
          -19.8932
         ],
         "2022-06-18T22:46:26.000+0000"
        ],
        [
         7528,
         "Albania",
         [
          -89.9787,
          -173.293
         ],
         "2020-08-28T03:52:47.000+0000"
        ],
        [
         3454,
         "Cambodia",
         [
          -0.375174,
          49.8106
         ],
         "2021-07-25T02:20:29.000+0000"
        ],
        [
         10119,
         "Christmas Island",
         [
          -74.5431,
          -162.795
         ],
         "2020-10-22T01:59:58.000+0000"
        ],
        [
         7874,
         "Algeria",
         [
          -89.5173,
          -179.689
         ],
         "2022-01-18T08:58:49.000+0000"
        ],
        [
         2048,
         "Antigua and Barbuda",
         [
          -89.4008,
          -142.186
         ],
         "2017-11-20T06:33:50.000+0000"
        ],
        [
         1313,
         "Maldives",
         [
          77.0447,
          61.9119
         ],
         "2018-06-26T02:39:25.000+0000"
        ],
        [
         10663,
         "Saint Kitts and Nevis",
         [
          -27.3474,
          -162.83
         ],
         "2019-07-25T18:53:51.000+0000"
        ],
        [
         5630,
         "Bahrain",
         [
          -19.1403,
          -164.987
         ],
         "2019-05-12T14:43:19.000+0000"
        ],
        [
         2301,
         "Saint Vincent and the Grenadines",
         [
          13.4683,
          51.7244
         ],
         "2020-11-14T00:25:28.000+0000"
        ],
        [
         10370,
         "Finland",
         [
          -81.9798,
          -71.932
         ],
         "2018-07-29T15:53:40.000+0000"
        ],
        [
         1961,
         "Argentina",
         [
          -65.3952,
          -175.249
         ],
         "2022-07-29T18:16:50.000+0000"
        ],
        [
         2863,
         "Armenia",
         [
          -5.34445,
          -177.924
         ],
         "2020-04-27T13:34:16.000+0000"
        ],
        [
         5309,
         "Maldives",
         [
          -89.4194,
          -84.2493
         ],
         "2020-05-04T22:00:32.000+0000"
        ],
        [
         3945,
         "Barbados",
         [
          -66.2816,
          -142.673
         ],
         "2022-04-17T02:01:53.000+0000"
        ],
        [
         6844,
         "New Caledonia",
         [
          -22.6915,
          5.69245
         ],
         "2021-06-06T21:53:11.000+0000"
        ],
        [
         7922,
         "Antigua and Barbuda",
         [
          -88.0974,
          -172.052
         ],
         "2021-01-27T09:14:19.000+0000"
        ],
        [
         10794,
         "Cocos (Keeling) Islands",
         [
          -89.5236,
          -154.567
         ],
         "2022-01-01T02:26:50.000+0000"
        ],
        [
         1521,
         "Saint Helena",
         [
          24.5192,
          64.9674
         ],
         "2022-10-12T14:03:26.000+0000"
        ],
        [
         8887,
         "Botswana",
         [
          -28.0137,
          -160.708
         ],
         "2021-09-19T05:27:43.000+0000"
        ],
        [
         8653,
         "Seychelles",
         [
          48.4569,
          -139.658
         ],
         "2022-04-11T18:30:19.000+0000"
        ],
        [
         2637,
         "Tunisia",
         [
          3.0033,
          -96.4904
         ],
         "2022-10-15T13:25:51.000+0000"
        ],
        [
         6566,
         "Cape Verde",
         [
          -39.225,
          -71.6593
         ],
         "2020-11-19T10:06:13.000+0000"
        ],
        [
         9759,
         "American Samoa",
         [
          -77.9744,
          -106.258
         ],
         "2017-12-30T13:05:49.000+0000"
        ],
        [
         10138,
         "Austria",
         [
          -72.142,
          -74.3545
         ],
         "2019-08-03T00:59:29.000+0000"
        ],
        [
         3184,
         "Cape Verde",
         [
          -41.293,
          -171.585
         ],
         "2018-09-25T23:17:46.000+0000"
        ],
        [
         2482,
         "Bermuda",
         [
          63.4563,
          -164.709
         ],
         "2019-09-13T08:20:13.000+0000"
        ],
        [
         3419,
         "Bhutan",
         [
          7.60293,
          -108.979
         ],
         "2021-12-20T05:01:54.000+0000"
        ],
        [
         6250,
         "Austria",
         [
          -73.2098,
          -150.856
         ],
         "2020-11-22T18:28:02.000+0000"
        ],
        [
         9778,
         "Guam",
         [
          85.2343,
          126.628
         ],
         "2020-08-24T14:24:42.000+0000"
        ],
        [
         8930,
         "Argentina",
         [
          -89.4739,
          -176.154
         ],
         "2021-09-29T13:25:49.000+0000"
        ],
        [
         3563,
         "Saint Barthelemy",
         [
          -77.3153,
          -69.505
         ],
         "2018-09-05T07:40:01.000+0000"
        ],
        [
         7768,
         "Algeria",
         [
          -88.355,
          -96.0131
         ],
         "2018-05-25T21:34:19.000+0000"
        ],
        [
         2788,
         "Djibouti",
         [
          -36.076,
          -94.1779
         ],
         "2019-12-18T03:04:41.000+0000"
        ],
        [
         3201,
         "Pitcairn Islands",
         [
          34.0532,
          -68.4946
         ],
         "2019-06-25T08:31:37.000+0000"
        ],
        [
         2565,
         "Bulgaria",
         [
          -87.4992,
          -177.336
         ],
         "2022-02-06T13:42:35.000+0000"
        ],
        [
         10552,
         "Grenada",
         [
          32.7568,
          -179.812
         ],
         "2020-08-24T11:39:32.000+0000"
        ],
        [
         5758,
         "Azerbaijan",
         [
          -79.3714,
          -145.242
         ],
         "2018-09-12T15:08:34.000+0000"
        ],
        [
         7166,
         "Aruba",
         [
          -86.4063,
          -136.657
         ],
         "2022-07-25T03:07:37.000+0000"
        ],
        [
         5730,
         "Colombia",
         [
          -77.015,
          -101.437
         ],
         "2021-04-19T17:37:03.000+0000"
        ],
        [
         1137,
         "Seychelles",
         [
          12.2544,
          10.7361
         ],
         "2020-12-26T00:56:04.000+0000"
        ],
        [
         8304,
         "French Guiana",
         [
          -28.8852,
          -164.87
         ],
         "2019-09-13T04:50:29.000+0000"
        ],
        [
         3351,
         "Portugal",
         [
          -9.11859,
          -96.9091
         ],
         "2020-09-12T10:34:11.000+0000"
        ],
        [
         46,
         "Afghanistan",
         [
          4.21689,
          -145.82
         ],
         "2018-09-15T09:16:57.000+0000"
        ],
        [
         4996,
         "Poland",
         [
          39.9625,
          -118.569
         ],
         "2019-04-16T23:49:42.000+0000"
        ],
        [
         2858,
         "Argentina",
         [
          -65.1565,
          -166.807
         ],
         "2018-05-03T13:27:09.000+0000"
        ],
        [
         603,
         "Netherlands Antilles",
         [
          14.0083,
          -141.603
         ],
         "2019-06-25T05:13:01.000+0000"
        ],
        [
         5494,
         "Bulgaria",
         [
          -82.6768,
          -129.202
         ],
         "2021-07-21T02:02:35.000+0000"
        ],
        [
         9979,
         "Dominican Republic",
         [
          14.9967,
          -120.682
         ],
         "2018-07-18T19:01:46.000+0000"
        ],
        [
         8731,
         "Aruba",
         [
          -83.104,
          -171.302
         ],
         "2020-07-17T04:39:09.000+0000"
        ],
        [
         6398,
         "Albania",
         [
          -3.29267,
          -179.726
         ],
         "2020-01-19T01:49:05.000+0000"
        ],
        [
         3334,
         "Anguilla",
         [
          -89.0609,
          -170.904
         ],
         "2019-09-26T20:13:48.000+0000"
        ],
        [
         4076,
         "Mauritania",
         [
          -67.2157,
          27.8139
         ],
         "2019-06-07T20:13:50.000+0000"
        ],
        [
         2293,
         "British Virgin Islands",
         [
          -87.7946,
          -159.647
         ],
         "2022-03-21T10:46:53.000+0000"
        ],
        [
         4988,
         "Madagascar",
         [
          -32.1879,
          -35.2784
         ],
         "2020-07-11T11:01:12.000+0000"
        ],
        [
         8366,
         "Kuwait",
         [
          -38.5318,
          -139.215
         ],
         "2018-03-28T14:17:11.000+0000"
        ],
        [
         3011,
         "Kuwait",
         [
          -76.4675,
          28.8054
         ],
         "2019-12-17T17:46:18.000+0000"
        ],
        [
         1422,
         "American Samoa",
         [
          -88.5252,
          -172.436
         ],
         "2018-04-30T08:27:21.000+0000"
        ],
        [
         9875,
         "Barbados",
         [
          -74.3382,
          -110.484
         ],
         "2020-03-20T13:03:18.000+0000"
        ],
        [
         1699,
         "Canada",
         [
          -54.3706,
          -127.783
         ],
         "2022-07-03T13:25:48.000+0000"
        ],
        [
         4357,
         "Bahamas",
         [
          -75.4909,
          -179.908
         ],
         "2020-03-06T09:56:43.000+0000"
        ],
        [
         4137,
         "Australia",
         [
          -55.3079,
          108.918
         ],
         "2019-06-23T22:16:34.000+0000"
        ],
        [
         9546,
         "Austria",
         [
          -70.0295,
          -155.428
         ],
         "2018-02-10T06:16:40.000+0000"
        ],
        [
         1967,
         "Australia",
         [
          32.74,
          -179.581
         ],
         "2021-02-05T10:37:28.000+0000"
        ],
        [
         5468,
         "Isle of Man",
         [
          -83.544,
          33.9473
         ],
         "2020-05-16T23:17:50.000+0000"
        ],
        [
         4256,
         "Afghanistan",
         [
          -88.5478,
          -174.971
         ],
         "2018-10-10T17:57:16.000+0000"
        ],
        [
         8312,
         "American Samoa",
         [
          -77.9744,
          -106.258
         ],
         "2021-04-25T15:56:29.000+0000"
        ],
        [
         10099,
         "Afghanistan",
         [
          -89.4261,
          -171.58
         ],
         "2020-12-24T13:33:03.000+0000"
        ],
        [
         1341,
         "Albania",
         [
          -89.9787,
          -173.293
         ],
         "2022-08-11T05:25:33.000+0000"
        ],
        [
         771,
         "Montserrat",
         [
          -29.1712,
          -107.111
         ],
         "2018-06-21T08:42:57.000+0000"
        ],
        [
         9936,
         "Australia",
         [
          -82.1715,
          -147.691
         ],
         "2018-06-30T22:07:13.000+0000"
        ],
        [
         7268,
         "Afghanistan",
         [
          -88.3754,
          -164.273
         ],
         "2019-12-11T14:05:18.000+0000"
        ],
        [
         5069,
         "Azerbaijan",
         [
          -63.0063,
          -157.474
         ],
         "2021-03-20T09:32:44.000+0000"
        ],
        [
         5151,
         "Guatemala",
         [
          -47.3372,
          -151.397
         ],
         "2020-07-15T01:42:38.000+0000"
        ]
       ],
       "datasetInfos": [],
       "dbfsResultPath": null,
       "isJsonSchema": true,
       "metadata": {},
       "overflow": false,
       "plotOptions": {
        "customPlotOptions": {},
        "displayType": "table",
        "pivotAggregation": null,
        "pivotColumns": null,
        "xColumns": null,
        "yColumns": null
       },
       "removedWidgets": [],
       "schema": [
        {
         "metadata": "{}",
         "name": "ind",
         "type": "\"integer\""
        },
        {
         "metadata": "{}",
         "name": "country",
         "type": "\"string\""
        },
        {
         "metadata": "{}",
         "name": "coordinates",
         "type": "{\"type\":\"array\",\"elementType\":\"double\",\"containsNull\":true}"
        },
        {
         "metadata": "{}",
         "name": "timestamp",
         "type": "\"timestamp\""
        }
       ],
       "type": "table"
      }
     },
     "output_type": "display_data"
    }
   ],
   "source": [
    "# display(df_pin)\n",
    "# display(df_geo)\n",
    "# display(df_user)"
   ]
  },
  {
   "cell_type": "code",
   "execution_count": 0,
   "metadata": {
    "application/vnd.databricks.v1+cell": {
     "cellMetadata": {
      "byteLimit": 2048000,
      "rowLimit": 10000
     },
     "inputWidgets": {},
     "nuid": "861a4a54-7726-4dc3-aba7-7af9477f5523",
     "showTitle": true,
     "title": "Write streaming pin data to Delta Table"
    }
   },
   "outputs": [
    {
     "output_type": "display_data",
     "data": {
      "text/html": [
       "<style scoped>\n",
       "  .ansiout {\n",
       "    display: block;\n",
       "    unicode-bidi: embed;\n",
       "    white-space: pre-wrap;\n",
       "    word-wrap: break-word;\n",
       "    word-break: break-all;\n",
       "    font-family: \"Menlo\", \"Monaco\", \"Consolas\", \"Ubuntu Mono\", \"Source Code Pro\", monospace;\n",
       "    font-size: 13px;\n",
       "    color: #555;\n",
       "    margin-left: 4px;\n",
       "    line-height: 19px;\n",
       "  }\n",
       "</style>\n",
       "<div class=\"ansiout\">Out[69]: &lt;pyspark.sql.streaming.StreamingQuery at 0x7fb79c247460&gt;</div>"
      ]
     },
     "metadata": {
      "application/vnd.databricks.v1+output": {
       "addedWidgets": {},
       "arguments": {},
       "data": "<div class=\"ansiout\">Out[69]: &lt;pyspark.sql.streaming.StreamingQuery at 0x7fb79c247460&gt;</div>",
       "datasetInfos": [],
       "metadata": {},
       "removedWidgets": [],
       "type": "html"
      }
     },
     "output_type": "display_data"
    }
   ],
   "source": [
    "dbutils.fs.rm(\"/tmp/kinesis/_checkpoints/\", True)\n",
    "(\n",
    "    df_pin.writeStream\n",
    "    .format(\"delta\") \n",
    "    .outputMode(\"append\") \n",
    "    .option(\"checkpointLocation\", \"/tmp/kinesis/_checkpoints/\") \n",
    "    .table(\"0e36c8cd403d_pin_table\")\n",
    ")"
   ]
  },
  {
   "cell_type": "code",
   "execution_count": 0,
   "metadata": {
    "application/vnd.databricks.v1+cell": {
     "cellMetadata": {},
     "inputWidgets": {},
     "nuid": "c98e0e7a-63e3-4b55-be44-8baaa9b60ce8",
     "showTitle": true,
     "title": "Write streaming geo data to Delta Table"
    }
   },
   "outputs": [],
   "source": [
    "dbutils.fs.rm(\"/tmp/kinesis/_checkpoints/\", True)\n",
    "(\n",
    "    df_geo.writeStream \n",
    "    .format(\"delta\") \n",
    "    .outputMode(\"append\") \n",
    "    .option(\"checkpointLocation\", \"/tmp/kinesis/_checkpoints/\") \n",
    "    .table(\"0e36c8cd403d_geo_table\")\n",
    ")"
   ]
  },
  {
   "cell_type": "code",
   "execution_count": 0,
   "metadata": {
    "application/vnd.databricks.v1+cell": {
     "cellMetadata": {},
     "inputWidgets": {},
     "nuid": "3b362ceb-e181-44c6-98aa-eb87f2697544",
     "showTitle": true,
     "title": "Write streaming user data to Delta Table"
    }
   },
   "outputs": [],
   "source": [
    "dbutils.fs.rm(\"/tmp/kinesis/_checkpoints/\", True)\n",
    "(\n",
    "    df_user.writeStream \n",
    "    .format(\"delta\") \n",
    "    .outputMode(\"append\") \n",
    "    .option(\"checkpointLocation\", \"/tmp/kinesis/_checkpoints/\") \n",
    "    .table(\"0e36c8cd403d_user_table\")\n",
    ")"
   ]
  }
 ],
 "metadata": {
  "application/vnd.databricks.v1+notebook": {
   "dashboards": [],
   "language": "python",
   "notebookMetadata": {
    "pythonIndentUnit": 4
   },
   "notebookName": "stream_read_clean_write",
   "widgets": {}
  }
 },
 "nbformat": 4,
 "nbformat_minor": 0
}
