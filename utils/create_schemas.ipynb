{
 "cells": [
  {
   "cell_type": "code",
   "execution_count": 0,
   "metadata": {
    "application/vnd.databricks.v1+cell": {
     "cellMetadata": {},
     "inputWidgets": {},
     "nuid": "20051f2a-6f41-497a-9469-0813e1cc85b5",
     "showTitle": false,
     "title": ""
    }
   },
   "outputs": [],
   "source": [
    "from pyspark.sql.types import StructType, StructField, StringType, IntegerType, TimestampType, DoubleType\n",
    "import pyspark.sql.functions as F\n",
    "\n",
    "user_schema = StructType(\n",
    "    {\n",
    "        StructField(\"ind\", IntegerType(), True),\n",
    "        StructField(\"first_name\", StringType(), True),\n",
    "        StructField(\"last_name\", StringType(), True),        \n",
    "        StructField(\"age\", IntegerType(), True),        \n",
    "        StructField(\"date_joined\", StringType(), True),                        \n",
    "    }\n",
    ")\n",
    "\n",
    "geo_schema = StructType(\n",
    "    {\n",
    "        StructField(\"ind\", IntegerType(), True),\n",
    "        StructField(\"timestamp\", StringType(), True),\n",
    "        StructField(\"latitude\", DoubleType(), True),\n",
    "        StructField(\"longitude\", DoubleType(), True),\n",
    "        StructField(\"country\", StringType(), True)\n",
    "    }\n",
    ")\n",
    "\n",
    "pin_schema = StructType(\n",
    "    {\n",
    "        StructField(\"category\", StringType(), True),\n",
    "        StructField(\"description\", StringType(), True),\n",
    "        StructField(\"downloaded\", IntegerType(), True),\n",
    "        StructField(\"follower_count\", StringType(), True),\n",
    "        StructField(\"image_src\", StringType(), True),\n",
    "        StructField(\"index\", IntegerType(), True),\n",
    "        StructField(\"is_image_or_video\", StringType(), True),\n",
    "        StructField(\"poster_name\", StringType(), True),\n",
    "        StructField(\"save_location\", StringType(), True),\n",
    "        StructField(\"tag_list\", StringType(), True),\n",
    "        StructField(\"title\", StringType(), True),\n",
    "        StructField(\"unique_id\", StringType(), True),\n",
    "    }\n",
    ")"
   ]
  }
 ],
 "metadata": {
  "application/vnd.databricks.v1+notebook": {
   "dashboards": [],
   "language": "python",
   "notebookMetadata": {
    "pythonIndentUnit": 4
   },
   "notebookName": "create_schemas",
   "widgets": {}
  }
 },
 "nbformat": 4,
 "nbformat_minor": 0
}
