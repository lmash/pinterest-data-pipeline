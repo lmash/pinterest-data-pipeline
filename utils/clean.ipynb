{
 "cells": [
  {
   "cell_type": "code",
   "execution_count": 0,
   "metadata": {
    "application/vnd.databricks.v1+cell": {
     "cellMetadata": {},
     "inputWidgets": {},
     "nuid": "075f50e1-d12c-490f-ae5d-e188abe19f7b",
     "showTitle": true,
     "title": "Clean pin data"
    }
   },
   "outputs": [],
   "source": [
    "def replace_empty_with_nones(df):\n",
    "    # Replace entries with no relevant data in each column with Nones\n",
    "    \n",
    "    mapping = {\n",
    "        \"follower_count\": \"User Info Error\",\n",
    "        \"image_src\": \"Image src error\",\n",
    "        \"poster_name\": \"User Info Error\"\n",
    "    }\n",
    "\n",
    "    for key, value in mapping.items():\n",
    "        df = df.withColumn(key, F.when(F.col(key) == value, None)\n",
    "                           .otherwise(F.col(key)))        \n",
    "\n",
    "    return df\n",
    "\n",
    "df_pin_cleaned = (\n",
    "    # Drop duplicates\n",
    "    df_pin_pre_cleaning.drop_duplicates([column_name for column_name, _ in df_pin_pre_cleaning.dtypes])\n",
    "        .transform(replace_empty_with_nones)\n",
    "        \n",
    "        # Convert follower_count columns with k/M\n",
    "        .withColumn(\"follower_count\", F.when(F.col(\"follower_count\").endswith(\"k\"), expr(\"substring(follower_count, 1, length(follower_count)-1)\") * 1000)\n",
    "                    .otherwise(F.col(\"follower_count\")))\n",
    "        .withColumn(\"follower_count\", F.when(F.col(\"follower_count\").endswith(\"M\"), expr(\"substring(follower_count, 1, length(follower_count)-1)\") * 1000000)\n",
    "                    .otherwise(F.col(\"follower_count\")))\n",
    "        \n",
    "        # Clean the data in the save_location column to include only the save location path\n",
    "        .withColumn(\"save_location\", F.split(\"save_location\", \"Local save in\"))\n",
    "        .withColumn(\"save_location\", F.col(\"save_location\")[F.size(\"save_location\") -1])\n",
    "\n",
    "        .withColumnRenamed(\"index\", \"ind\")\n",
    ")"
   ]
  },
  {
   "cell_type": "code",
   "execution_count": 0,
   "metadata": {
    "application/vnd.databricks.v1+cell": {
     "cellMetadata": {},
     "inputWidgets": {},
     "nuid": "5891277f-32d1-45da-89ad-15033f729d21",
     "showTitle": true,
     "title": "Cast pin columns to correct types & reorder"
    }
   },
   "outputs": [],
   "source": [
    "df_pin = (df_pin_cleaned\n",
    "          .withColumn(\"follower_count\", df_pin_cleaned[\"follower_count\"].cast(IntegerType()))\n",
    "          .withColumn(\"index\", df_pin_cleaned[\"ind\"].cast(IntegerType()))          \n",
    "          .select(\"ind\", \"unique_id\", \"title\", \"description\", \"follower_count\", \"poster_name\", \"tag_list\", \"is_image_or_video\", \"image_src\", \"save_location\", \"category\")          \n",
    ") "
   ]
  },
  {
   "cell_type": "code",
   "execution_count": 0,
   "metadata": {
    "application/vnd.databricks.v1+cell": {
     "cellMetadata": {},
     "inputWidgets": {},
     "nuid": "973f884a-3c67-4854-97a2-314c974921e3",
     "showTitle": true,
     "title": "Clean geolocation data"
    }
   },
   "outputs": [],
   "source": [
    "df_geo = (\n",
    "    df_geo_pre_cleaning.drop_duplicates([column_name for column_name, _ in df_geo_pre_cleaning.dtypes])\n",
    "    .withColumn(\"coordinates\", F.array(\"latitude\", \"longitude\"))\n",
    "    .withColumn(\"timestamp\", F.to_timestamp(\"timestamp\"))\n",
    "    .select(\"ind\", \"country\", \"coordinates\", \"timestamp\")\n",
    ")"
   ]
  },
  {
   "cell_type": "code",
   "execution_count": 0,
   "metadata": {
    "application/vnd.databricks.v1+cell": {
     "cellMetadata": {},
     "inputWidgets": {},
     "nuid": "ea2e0b34-8dac-44dd-a68c-5274b5dbe8df",
     "showTitle": true,
     "title": "Clean user data"
    }
   },
   "outputs": [],
   "source": [
    "df_user = (\n",
    "     df_user_pre_cleaning.drop_duplicates([column_name for column_name, _ in df_user_pre_cleaning.dtypes])\n",
    "     .withColumn(\"user_name\", F.concat(F.col(\"first_name\"), F.lit(\" \"), F.col(\"last_name\")))\n",
    "     .withColumn(\"date_joined\", F.to_timestamp(\"date_joined\"))\n",
    "     .select(\"ind\", \"user_name\", \"age\", \"date_joined\")    \n",
    ")"
   ]
  }
 ],
 "metadata": {
  "application/vnd.databricks.v1+notebook": {
   "dashboards": [],
   "language": "python",
   "notebookMetadata": {
    "pythonIndentUnit": 4
   },
   "notebookName": "clean",
   "widgets": {}
  }
 },
 "nbformat": 4,
 "nbformat_minor": 0
}
